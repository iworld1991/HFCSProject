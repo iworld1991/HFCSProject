{
 "cells": [
  {
   "cell_type": "markdown",
   "metadata": {},
   "source": [
    "## Literature survey on HFCS\n",
    "\n",
    "- This notebook has an automized reader that goes over a list of papers regarding HFCS whose citation information is stored in the excel sheet.\n",
    "- It prints out all the title and abstracts in the notebook, so that I can draft the literature review here within the same notebook.\n",
    "- It also cites the literature from bib file. "
   ]
  },
  {
   "cell_type": "code",
   "execution_count": 1,
   "metadata": {},
   "outputs": [],
   "source": [
    "import pandas as pd\n",
    "import os\n",
    "import scholarly as sc\n",
    "path = os.path.dirname(os.getcwd())"
   ]
  },
  {
   "cell_type": "code",
   "execution_count": 2,
   "metadata": {},
   "outputs": [],
   "source": [
    "db = pd.read_excel(path+\"/201707_HFCS_citations_selected.xlsx\")"
   ]
  },
  {
   "cell_type": "code",
   "execution_count": 3,
   "metadata": {},
   "outputs": [
    {
     "data": {
      "text/html": [
       "<div>\n",
       "<style scoped>\n",
       "    .dataframe tbody tr th:only-of-type {\n",
       "        vertical-align: middle;\n",
       "    }\n",
       "\n",
       "    .dataframe tbody tr th {\n",
       "        vertical-align: top;\n",
       "    }\n",
       "\n",
       "    .dataframe thead th {\n",
       "        text-align: right;\n",
       "    }\n",
       "</style>\n",
       "<table border=\"1\" class=\"dataframe\">\n",
       "  <thead>\n",
       "    <tr style=\"text-align: right;\">\n",
       "      <th></th>\n",
       "      <th>Cites</th>\n",
       "      <th>Authors</th>\n",
       "      <th>Title</th>\n",
       "      <th>Abstract</th>\n",
       "      <th>Year</th>\n",
       "      <th>Source</th>\n",
       "      <th>Publisher</th>\n",
       "      <th>ArticleURL</th>\n",
       "      <th>CitesURL</th>\n",
       "      <th>GSRank</th>\n",
       "      <th>...</th>\n",
       "      <th>CitationURL</th>\n",
       "      <th>Volume</th>\n",
       "      <th>Issue</th>\n",
       "      <th>StartPage</th>\n",
       "      <th>EndPage</th>\n",
       "      <th>ECC</th>\n",
       "      <th>CitesPerYear</th>\n",
       "      <th>CitesPerAuthor</th>\n",
       "      <th>AuthorCount</th>\n",
       "      <th>Age</th>\n",
       "    </tr>\n",
       "  </thead>\n",
       "  <tbody>\n",
       "    <tr>\n",
       "      <th>0</th>\n",
       "      <td>260</td>\n",
       "      <td>G Kaplan, GL Violante, J Weidner</td>\n",
       "      <td>The wealthy hand-to-mouth</td>\n",
       "      <td>The wealthy hand-to-mouth are households who h...</td>\n",
       "      <td>2014</td>\n",
       "      <td>NaN</td>\n",
       "      <td>nber.org</td>\n",
       "      <td>https://www.nber.org/papers/w20073</td>\n",
       "      <td>https://scholar.google.com/scholar?cites=10835...</td>\n",
       "      <td>84</td>\n",
       "      <td>...</td>\n",
       "      <td>NaN</td>\n",
       "      <td>NaN</td>\n",
       "      <td>NaN</td>\n",
       "      <td>NaN</td>\n",
       "      <td>NaN</td>\n",
       "      <td>260</td>\n",
       "      <td>52.00</td>\n",
       "      <td>87</td>\n",
       "      <td>3</td>\n",
       "      <td>5.0</td>\n",
       "    </tr>\n",
       "    <tr>\n",
       "      <th>1</th>\n",
       "      <td>221</td>\n",
       "      <td>L Guiso, P Sodini</td>\n",
       "      <td>Household finance: An emerging field</td>\n",
       "      <td>Household finance—the normative and positive s...</td>\n",
       "      <td>2013</td>\n",
       "      <td>Handbook of the Economics of Finance</td>\n",
       "      <td>Elsevier</td>\n",
       "      <td>https://www.sciencedirect.com/science/article/...</td>\n",
       "      <td>https://scholar.google.com/scholar?cites=74972...</td>\n",
       "      <td>660</td>\n",
       "      <td>...</td>\n",
       "      <td>NaN</td>\n",
       "      <td>NaN</td>\n",
       "      <td>NaN</td>\n",
       "      <td>NaN</td>\n",
       "      <td>NaN</td>\n",
       "      <td>221</td>\n",
       "      <td>36.83</td>\n",
       "      <td>111</td>\n",
       "      <td>2</td>\n",
       "      <td>6.0</td>\n",
       "    </tr>\n",
       "    <tr>\n",
       "      <th>2</th>\n",
       "      <td>145</td>\n",
       "      <td>P Vermeulen</td>\n",
       "      <td>How fat is the top tail of the wealth distribu...</td>\n",
       "      <td>Differential unit non‐response in household we...</td>\n",
       "      <td>2018</td>\n",
       "      <td>Review of Income and Wealth</td>\n",
       "      <td>Wiley Online Library</td>\n",
       "      <td>https://onlinelibrary.wiley.com/doi/abs/10.111...</td>\n",
       "      <td>https://scholar.google.com/scholar?cites=73430...</td>\n",
       "      <td>75</td>\n",
       "      <td>...</td>\n",
       "      <td>NaN</td>\n",
       "      <td>NaN</td>\n",
       "      <td>NaN</td>\n",
       "      <td>NaN</td>\n",
       "      <td>NaN</td>\n",
       "      <td>145</td>\n",
       "      <td>145.00</td>\n",
       "      <td>145</td>\n",
       "      <td>1</td>\n",
       "      <td>1.0</td>\n",
       "    </tr>\n",
       "    <tr>\n",
       "      <th>3</th>\n",
       "      <td>118</td>\n",
       "      <td>O Bover, E Coronado, P Velilla</td>\n",
       "      <td>The Spanish survey of household finances (EFF)...</td>\n",
       "      <td>This paper describes the methods of the fourth...</td>\n",
       "      <td>2014</td>\n",
       "      <td>Banco de España Occasional …</td>\n",
       "      <td>papers.ssrn.com</td>\n",
       "      <td>https://papers.ssrn.com/sol3/papers.cfm?abstra...</td>\n",
       "      <td>https://scholar.google.com/scholar?cites=11993...</td>\n",
       "      <td>129</td>\n",
       "      <td>...</td>\n",
       "      <td>NaN</td>\n",
       "      <td>NaN</td>\n",
       "      <td>NaN</td>\n",
       "      <td>NaN</td>\n",
       "      <td>NaN</td>\n",
       "      <td>118</td>\n",
       "      <td>23.60</td>\n",
       "      <td>39</td>\n",
       "      <td>3</td>\n",
       "      <td>5.0</td>\n",
       "    </tr>\n",
       "    <tr>\n",
       "      <th>4</th>\n",
       "      <td>117</td>\n",
       "      <td>JY Campbell</td>\n",
       "      <td>Restoring rational choice: The challenge of co...</td>\n",
       "      <td>This lecture considers the case for consumer f...</td>\n",
       "      <td>2016</td>\n",
       "      <td>American Economic Review</td>\n",
       "      <td>aeaweb.org</td>\n",
       "      <td>https://www.aeaweb.org/articles?id=10.1257/aer...</td>\n",
       "      <td>https://scholar.google.com/scholar?cites=17878...</td>\n",
       "      <td>322</td>\n",
       "      <td>...</td>\n",
       "      <td>NaN</td>\n",
       "      <td>NaN</td>\n",
       "      <td>NaN</td>\n",
       "      <td>NaN</td>\n",
       "      <td>NaN</td>\n",
       "      <td>117</td>\n",
       "      <td>39.00</td>\n",
       "      <td>117</td>\n",
       "      <td>1</td>\n",
       "      <td>3.0</td>\n",
       "    </tr>\n",
       "  </tbody>\n",
       "</table>\n",
       "<p>5 rows × 24 columns</p>\n",
       "</div>"
      ],
      "text/plain": [
       "   Cites                           Authors  \\\n",
       "0    260  G Kaplan, GL Violante, J Weidner   \n",
       "1    221                 L Guiso, P Sodini   \n",
       "2    145                       P Vermeulen   \n",
       "3    118    O Bover, E Coronado, P Velilla   \n",
       "4    117                       JY Campbell   \n",
       "\n",
       "                                               Title  \\\n",
       "0                          The wealthy hand-to-mouth   \n",
       "1               Household finance: An emerging field   \n",
       "2  How fat is the top tail of the wealth distribu...   \n",
       "3  The Spanish survey of household finances (EFF)...   \n",
       "4  Restoring rational choice: The challenge of co...   \n",
       "\n",
       "                                            Abstract  Year  \\\n",
       "0  The wealthy hand-to-mouth are households who h...  2014   \n",
       "1  Household finance—the normative and positive s...  2013   \n",
       "2  Differential unit non‐response in household we...  2018   \n",
       "3  This paper describes the methods of the fourth...  2014   \n",
       "4  This lecture considers the case for consumer f...  2016   \n",
       "\n",
       "                                 Source             Publisher  \\\n",
       "0                                   NaN              nber.org   \n",
       "1  Handbook of the Economics of Finance              Elsevier   \n",
       "2           Review of Income and Wealth  Wiley Online Library   \n",
       "3          Banco de España Occasional …       papers.ssrn.com   \n",
       "4              American Economic Review            aeaweb.org   \n",
       "\n",
       "                                          ArticleURL  \\\n",
       "0                 https://www.nber.org/papers/w20073   \n",
       "1  https://www.sciencedirect.com/science/article/...   \n",
       "2  https://onlinelibrary.wiley.com/doi/abs/10.111...   \n",
       "3  https://papers.ssrn.com/sol3/papers.cfm?abstra...   \n",
       "4  https://www.aeaweb.org/articles?id=10.1257/aer...   \n",
       "\n",
       "                                            CitesURL  GSRank  ... CitationURL  \\\n",
       "0  https://scholar.google.com/scholar?cites=10835...      84  ...         NaN   \n",
       "1  https://scholar.google.com/scholar?cites=74972...     660  ...         NaN   \n",
       "2  https://scholar.google.com/scholar?cites=73430...      75  ...         NaN   \n",
       "3  https://scholar.google.com/scholar?cites=11993...     129  ...         NaN   \n",
       "4  https://scholar.google.com/scholar?cites=17878...     322  ...         NaN   \n",
       "\n",
       "  Volume  Issue  StartPage  EndPage  ECC  CitesPerYear  CitesPerAuthor  \\\n",
       "0    NaN    NaN        NaN      NaN  260         52.00              87   \n",
       "1    NaN    NaN        NaN      NaN  221         36.83             111   \n",
       "2    NaN    NaN        NaN      NaN  145        145.00             145   \n",
       "3    NaN    NaN        NaN      NaN  118         23.60              39   \n",
       "4    NaN    NaN        NaN      NaN  117         39.00             117   \n",
       "\n",
       "   AuthorCount  Age  \n",
       "0            3  5.0  \n",
       "1            2  6.0  \n",
       "2            1  1.0  \n",
       "3            3  5.0  \n",
       "4            1  3.0  \n",
       "\n",
       "[5 rows x 24 columns]"
      ]
     },
     "execution_count": 3,
     "metadata": {},
     "output_type": "execute_result"
    }
   ],
   "source": [
    "db.head()"
   ]
  },
  {
   "cell_type": "code",
   "execution_count": 4,
   "metadata": {
    "code_folding": []
   },
   "outputs": [],
   "source": [
    "#list(db['Abstract'])"
   ]
  },
  {
   "cell_type": "code",
   "execution_count": 5,
   "metadata": {},
   "outputs": [
    {
     "name": "stdout",
     "output_type": "stream",
     "text": [
      "{nan, 'econstor.eu', 'Elsevier', 'nber.org', 'aeaweb.org', 'academic.oup.com', 'cesifo-group.de', 'Wiley Online Library', 'banque-france.fr', 'ijcb.org', 'papers.ssrn.com'}\n"
     ]
    }
   ],
   "source": [
    "pub_list = set(db[\"Publisher\"])\n",
    "print(pub_list)"
   ]
  },
  {
   "cell_type": "code",
   "execution_count": 6,
   "metadata": {},
   "outputs": [
    {
     "name": "stdout",
     "output_type": "stream",
     "text": [
      "{nan, 'International Journal of\\xa0…', 'Journal of Financial Stability', 'CEPR network event on household\\xa0…', 'American Economic Review', 'The Review of Financial\\xa0…', 'Handbook of the Economics of Finance', 'Journal of Housing Economics', 'Journal of the European Economic Association', 'CES/IFO conference on macroeconomics\\xa0…', 'as.nyu.edu', 'Journal of the European\\xa0…', 'Available at SSRN\\xa0…', 'Banco de España Occasional\\xa0…', 'European Economic Review', 'Journal of Economic Surveys', 'Journal of International Money\\xa0…', 'Review of Income and Wealth'}\n"
     ]
    }
   ],
   "source": [
    "source_list = set(db[\"Source\"])\n",
    "print(source_list)"
   ]
  },
  {
   "cell_type": "code",
   "execution_count": 7,
   "metadata": {},
   "outputs": [],
   "source": [
    "## links\n",
    "for i in range(len(db)):\n",
    "    gs_link = db['ArticleURL'][i]\n",
    "    #print(gs_link)"
   ]
  },
  {
   "cell_type": "code",
   "execution_count": 8,
   "metadata": {
    "code_folding": [
     0
    ]
   },
   "outputs": [],
   "source": [
    "## google links\n",
    "for i in range(len(db)):\n",
    "    gs_link = db['CitesURL'][i]\n",
    "    #print(gs_link)"
   ]
  },
  {
   "cell_type": "code",
   "execution_count": 9,
   "metadata": {
    "code_folding": []
   },
   "outputs": [],
   "source": [
    "## try to search google again\n",
    "\n",
    "#for i in range(len(db)):\n",
    "    #search_query = sc.search_pubs_query(db['Title'][i])\n",
    "    #citedby  = next(search_query)\n",
    "    #print(db['Title'][i])\n",
    "    #print(citedby.bib['abstract'])"
   ]
  },
  {
   "cell_type": "code",
   "execution_count": 10,
   "metadata": {
    "code_folding": []
   },
   "outputs": [
    {
     "name": "stdout",
     "output_type": "stream",
     "text": [
      "The wealthy hand-to-mouth\n",
      "G Kaplan, GL Violante, J Weidner\n",
      "\n",
      "\n",
      "The wealthy hand-to-mouth are households who hold little or no liquid wealth (cash, checking, and savings accounts), despite owning sizable amounts of illiquid assets (assets that carry a transaction cost, such as housing or retirement accounts). We use survey data on household portfolios for the U.S., Canada, Australia, the U.K., Germany, France, Italy, and Spain to document the share of such households across countries, their demographic characteristics, the composition of their balance sheets, and the persistence of hand-to-mouth status over the life cycle. The portfolio configuration of the wealthy hand-to-mouth suggests that these households may have a high marginal propensity to consume out of transitory income changes, a prediction for which we find empirical support in PSID data. We explain the implications of this group of consumers for macroeconomic modeling and fiscal policy analysis.\n",
      "\n",
      "\n",
      "Household finance: An emerging field\n",
      "L Guiso, P Sodini\n",
      "\n",
      "\n",
      "Household finance—the normative and positive study of how households use financial markets to achieve their objectives—has gained a lot of attention over the past decade and has become a field with its own identity, style, and agenda. In this chapter we review its evolution and most recent developments.\n",
      "\n",
      "\n",
      "How fat is the top tail of the wealth distribution?\n",
      "P Vermeulen\n",
      "\n",
      "\n",
      "Differential unit non‐response in household wealth surveys biases estimates of top tail wealth shares downward. Using Monte Carlo evidence, I show that adding only a few extreme observations to wealth surveys is sufficient to remove the downward bias. Combining extreme wealth observations from Forbes World's billionaires with the Survey of Consumer Finances, the Wealth and Assets Survey, and the Household Finance and Consumption Survey, I provide new improved estimates of top tail wealth in the United States, the United Kingdom, and nine euro area countries. These new estimates indicate significantly higher top wealth shares than those calculated from the wealth surveys alone.\n",
      "\n",
      "\n",
      "The Spanish survey of household finances (EFF): description and methods of the 2011 wave\n",
      "O Bover, E Coronado, P Velilla\n",
      "\n",
      "\n",
      "This paper describes the methods of the fourth wave of the Spanish Survey of Household Finances (EFF2011), paying special attention to the innovations relative to the previous waves. The EFF2011 was designed to give continuity to the information on household finances collected through the EFF2002, EFF2005 and EFF2008. A desirable characteristic present in all four waves is the oversampling of wealthy households. This is achieved on the basis of the wealth tax through a blind system of collaboration between the National Statistics Institute and the Tax Office which preserves stringent tax confidentiality. An additional important characteristic of the EFF is that the second, third, and fourth waves have a panel component. Further, a refreshment sample by wealth stratum has been incorporated in those waves to preserve cross-sectional representativity and overall sample size. The EFF is the only statistical source in Spain that allows the linking of incomes, assets, debts, and consumption at the household level. There are now four editions of the EFF, which means that these statistics capture the financial situation of households over a long period, including an expansion and a recession. Moreover, the financial situation of Spanish households can now be compared with that of households in other European countries thanks to the recent availability of similar surveys in the rest of the EU.\n",
      "\n",
      "\n",
      "Restoring rational choice: The challenge of consumer financial regulation\n",
      "JY Campbell\n",
      "\n",
      "\n",
      "This lecture considers the case for consumer financial regulation in an environment where many households lack the knowledge to manage their financial affairs effectively. The lecture argues that financial ignorance is pervasive and unsurprising given the complexity of modern financial products, and that it contributes meaningfully to the evolution of wealth inequality. The lecture uses a stylized model to discuss the welfare economics of paternalistic intervention in financial markets, and discusses several specific examples including asset allocation in retirement savings, fees for unsecured short-term borrowing, and reverse mortgages.\n",
      "\n",
      "\n",
      "Household debt and social interactions\n",
      "D Georgarakos, M Haliassos, G Pasini\n",
      "\n",
      "\n",
      "Can concern with relative standing, which has been shown to influence consumption and labor supply, also increase borrowing and the likelihood of financial distress? We find that perceived peer income contributes to debt and the likelihood of financial distress among those who consider themselves poorer than their peers. We use unique responses describing perceived peer characteristics from a Dutch population-wide survey to handle two major challenges of uncovering social interaction effects on borrowing: (1) debts, unlike conspicuous consumption, are often hidden from peers and (1) location is missing in anonymized data. We employ several approaches to uncover exogenous, rather than correlated, effects.\n",
      "\n",
      "\n",
      "Inspecting the mechanism: Leverage and the great recession in the eurozone\n",
      "P Martin, T Philippon\n",
      "\n",
      "\n",
      "We provide a comprehensive account of the dynamics of eurozone countries from 2000 to 2012. We analyze private leverage, fiscal policy, labor costs, and spreads, and we propose a model and an identification strategy to separate the impact of credit cycles, excessive government spending, and sudden stops. We then ask how periphery countries would have fared with different policies. We find that countries could have stabilized their employment if they had followed more conservative fiscal policies during the boom. Macroprudential policies and an early intervention by the central bank to prevent market segmentation and reduce fiscal austerity would also have significantly reduced the recession.\n",
      "\n",
      "\n",
      "The eurosystem household finance and consumption survey-results from the first wave\n",
      "EH Finance, C Network\n",
      "\n",
      "\n",
      "This report summarises key stylised facts from the first wave of the Eurosystem Household Finance and Consumption Survey, which provides household-level data collected in a harmonised way in 15 euro area countries for a sample of more than 62,000 households. The report presents results on household assets and liabilities, income, and indicators of consumption and credit constraints.\n",
      "\n",
      "\n",
      "Financial fragility of euro area households\n",
      "M Ampudia, H van Vlokhoven, D Żochowski\n",
      "\n",
      "\n",
      "Until recently, the lack of appropriate harmonized micro data covering both income and wealth has been the major obstacle in analyzing financial vulnerability of the household sector in the euro area. This data problem has been partially circumvented by the dissemination of the Household Finance and Consumption Survey (HFCS). Based on this unique data set, we put forward a stress testing method of household balance sheets in a consistent manner across euro area countries. To this end, we put forward a metric of distress which takes into account both the solvency and liquidity position of the household and demonstrate that this metric outperforms the most common metrics used in the literature, which do not take into account the households’ asset holdings. We calibrate this metric using the country level data on non-performing loan ratios and estimate stress-test elasticitiesin response to an interest rate shock, an income shock and a house price shock. We find that, albeit euro-area households are relatively resilient as a whole, there are large discrepancies in the impact of macroeconomic shocks across countries. Finally, we demonstrate that our framework could be used to assess some measures mitigating losses to the banks, such as engaging in the restructurings of loans that are at risk of defaulting.\n",
      "\n",
      "\n",
      "The Distribution of wealth and the MPC: implications of new European data\n",
      "CD Carroll, J Slacalek, K Tokuoka\n",
      "\n",
      "\n",
      "Using a standard, realistically calibrated model of buffer-stock saving with transitory and permanent income shocks, we study how cross-country differences in the wealth distribution and household income dynamics affect the marginal propensity to consume out of transitory shocks (MPC). Across the 15 countries in our sample, we find that the aggregate consumption response ranges between 0.1 and 0.4 and is stronger (i) in economies with large wealth inequality, where a larger proportion of households has little wealth, (ii) under larger transitory income shocks, and (iii) when we consider households only use liquid assets (rather than net wealth) to smooth consumption.\n",
      "\n",
      "\n",
      "The distribution of debt across euro area countries: the role of individual characteristics, institutions and credit conditions\n",
      "O Bover, JM Casado, S Costa, P Du Caju, Y McCarthy, ...\n",
      "\n",
      "\n",
      "The aim of this paper is twofold. First, we present an up-to-date assessment of the differences across euro area countries in the distributions of various measures of debt conditional on household characteristics. We consider three different outcomes: the probability of holding debt, the amount of debt held and, in the case of secured debt, the interest rate paid on the main mortgage. Second, we examine the role of legal and economic institutions in accounting for these differences. We use data from the first wave of a new survey of household finances, the Household Finance and Consumption Survey, to achieve these aims. We find that the patterns of secured and unsecured debt outcomes vary markedly across countries. Among all the institutions considered, the length of asset repossession periods best accounts for the features of the distribution of secured debt. In countries with longer repossession periods, the fraction of people who borrow is smaller, the youngest group of households borrow lower amounts (conditional on borrowing), and the mortgage interest rates paid by low-income households are higher. Regulatory loan-to-value ratios, the taxation of mortgages and the prevalence of interest-only or fixed-rate mortgages deliver less robust results.\n",
      "\n",
      "\n",
      "Distributional consequences of asset price inflation in the euro area\n",
      "K Adam, P Tzamourani\n",
      "\n",
      "\n",
      "We study the distributional consequences of housing price, bond price and equity price increases for Euro Area households using data from the Household Finance and Consumption Survey (HFCS). The capital gains from bond price and equity price increases turn out to be concentrated among relatively few households, while the median household strongly benefits from housing price increases. The capital gains from bond price increases (relative to household net wealth) do not correlate with household net wealth (or income). Bond price increases thus leave net wealth inequality largely unchanged. In contrast, equity price increases largely benefit the top end of the net wealth (and income) distribution, thus amplify net wealth inequality. Housing price increases display a hump shaped pattern over the net wealth distribution, with the poorest and richest households benefitting least, but there exists considerable heterogeneity across Euro Area countries. The ECB's OMT announcements over the summer of 2012 had quantitatively similar distributional implications as an unexpected loosening of the policy rate by about 175 basis points.\n",
      "\n",
      "\n",
      "Unemployment (fears) and deflationary spirals\n",
      "WJ Den Haan, P Rendahl, ...\n",
      "\n",
      "\n",
      "The interaction of incomplete markets and sticky nominal wages is shown to magnify business cycles even though these two features—in isolation—dampen them. During recessions, fears of unemployment stir up precautionary sentiments that induce agents to save more. The additional savings may be used as investments in both a productive asset (equity) and an unproductive nominal liquid asset. The desire to hold the nominal liquid asset puts deflationary pressure on the economy which, provided that nominal wages are sticky, increases labor costs, and reduces firm profits. Lower profits repress the desire to save in equity, which increases (the fear of) unemployment, and so on. This mechanism causes the model to behave differently from its complete markets version and is quantitatively important even if monetary policy counteracts the desire to hold more of the liquid asset by lowering the interest rate. The deflationary pressure yields a mean-reverting reduction in the price level, which implies an increase in expected inflation and a decrease in the expected real interest rate even if the policy rate does not adjust. Thus, our mechanism is different from the typical zero lower bound argument. Due to the deflationary spiral, our model also behaves differently from its incomplete market version without aggregate uncertainty, especially in terms of the impact of unemployment insurance on average employment levels.\n",
      "\n",
      "\n",
      "Wealth effects and macroeconomic dynamics\n",
      "D Cooper, K Dynan\n",
      "\n",
      "\n",
      "The effect of wealth on consumption is an issue of long‐standing interest to economists. Conventional wisdom suggests that fluctuations in household wealth have driven major swings in economic activity both in the United States and abroad. This paper considers the so‐called consumption wealth effects. There is an extensive existing literature on wealth effects that has yielded some insights. For example, research has documented the relationship between aggregate household wealth and aggregate consumption over time, and a large number of household‐level studies suggest that wealth effects are larger for households facing credit constraints. However, there are also many unresolved issues regarding the influence of household wealth on consumption. We review the most important of these issues and argue that there is a need for much more research in these areas as well as better data sources for conducting such analysis.\n",
      "\n",
      "\n",
      "Household saving behavior and credit constraints in the Euro area\n",
      "J Le Blanc, A Porpiglia, J Zhu, M Ziegelmeyer\n",
      "\n",
      "\n",
      "We study the role of household saving behaviour, of individual motives for saving and that of perceived liquidity constraints in 15 Euro Area countries. The empirical analysis is based on the Household Finance and Consumption Survey, a new harmonized data set collecting detailed information on wealth holdings, consumption and income at the household level. Since the data is from 2010-2011, strong conclusions as regards the present are difficult to draw. This is because the crisis may have affected the data, especially in countries that were severely hit. Nevertheless we find evidence of some degree of homogeneity across countries with respect to saving preferences and the relative importance of different motives for saving. In addition, credit constraints are more heterogeneous across geographic regions and perceived to be binding for specific groups of respondents. Households living in Mediterranean countries report to be more subject to binding liquidity constraints than households living in Continental Europe. Household characteristics and institutional macroeconomic variables are significant and economically important determinants of household saving preferences and credit constraints.\n",
      "\n",
      "\n",
      "Household wealth in the euro area: The importance of intergenerational transfers, homeownership and house price dynamics\n",
      "TY Mathä, A Porpiglia, M Ziegelmeyer\n",
      "\n",
      "\n",
      "Results from the Eurosystem Household Finance and Consumption Survey reveal substantial variation in household net wealth across euro area countries that await explanation. This paper focuses on three main factors: (i) homeownership, (ii) housing value appreciation and (iii) intergenerational transfers. We show that these three factors, in addition to the common household and demographic factors, are relevant for the net wealth accumulation process in all euro area countries, and that, using various decomposition techniques, differences in homeownership rates and house price dynamics are important for explaining wealth differences across euro area countries.\n",
      "\n",
      "\n",
      "Estimating the top tail of the wealth distribution\n",
      "P Vermeulen\n",
      "\n",
      "\n",
      "This paper uses the Household Finance and Consumption Survey to construct new estimates of top wealth shares in Germany, France, Spain, Italy, Belgium, Austria, Finland and The Netherlands. It provides a methodology to address simultaneously non-response and underreporting in wealth surveys.\n",
      "\n",
      "\n",
      "Household risk management and actual mortgage choice in the euro area\n",
      "M Ehrmann, M Ziegelmeyer\n",
      "\n",
      "\n",
      "Mortgages constitute the largest part of household debt. An essential choice when taking out a mortgage is between fixed-interest-rate mortgages (FRMs) and adjustable-interest-rate mortgages (ARMs). However, so far, no comprehensive cross-country study has analyzed what determines household demand for mortgage types, a task that this paper takes up using new data for the euro area. Our results support the hypothesis of Campbell and Cocco (2003) that the decision is best described as one of household risk management: income volatility reduces the take-out of ARMs, while increasing duration and relative size of the mortgages increase it. Controlling for other supply factors through country fixed effects, loan pricing also matters, as expected, with ARMs becoming more attractive when yield spreads rise. The paper also conducts a simulation exercise to identify how the easing of monetary policy during the financial crisis affected mortgage holders. It shows that the resulting reduction in mortgage rates produced a substantial decline in debt burdens among mortgage-holding households, especially in countries where households have higher debt burdens and a larger share of ARMs, as well as for some disadvantaged groups of households, such as those with low income.\n",
      "\n",
      "\n",
      "A “Reverse Robin Hood”? The distributional implications of non-standard monetary policy for Italian households\n",
      "M Casiraghi, E Gaiotti, L Rodano, A Secchi\n",
      "\n",
      "\n",
      "We study empirically the distributional implications of ECB non-standard monetary policy by exploiting a rich micro dataset on Italian households’ income and wealth, and contemporaneously taking into account all relevant transmission channels. Our results do not support the claim that an unconventional monetary loosening acts as a “reverse Robin Hood”. Larger benefits accrue to households at the bottom of the income scale, as the effects via the stimulus to economic activity and employment outweigh those via financial markets. The response of net wealth is moderately U-shaped: less wealthy households take advantage of their leveraged positions, wealthier households of their larger share of financial assets. Overall, the effects on inequality are negligible. The results also suggest that savers are not hurt, as the decrease in the remuneration of assets is compensated by support to labour income and by capital gains.\n",
      "\n",
      "\n",
      "Price-level changes and the redistribution of nominal wealth across the Euro Area\n",
      "K Adam, J Zhu\n",
      "\n",
      "\n",
      "We show that unexpected price-level movements generate sizable wealth redistribution in the Euro Area (EA), using sectoral accounts and newly available data from the Household Finance and Consumption Survey. The EA as a whole is a net loser of unexpected price-level decreases, with Italy, Greece, Portugal, and Spain losing most in per capita terms, and Belgium and Malta being net winners. Governments are net losers of deflation, while the household (HH) sector is a net winner in the EA as a whole. HHs in Belgium, Ireland, Malta, and Germany experience the biggest per capita gains, while HHs in Finland and Spain turn out to be net losers. Considerable heterogeneity exists also within the HH sector: relatively young middle class HHs are net losers of deflation, while older and richer HHs are winners. As a result, wealth inequality in the EA increases with unexpected deflation, although in some countries (Austria, Germany, and Malta) inequality decreases due to the presence of relatively few young borrowing HHs. We document that HHs’ inflation exposure varies systematically across countries, with HHs in high-inflation EA countries holding systematically lower nominal exposures.\n",
      "\n",
      "\n",
      "Monetary policy and household inequality\n",
      "M Ampudia, D Georgarakos, J Slacalek, O Tristani, ...\n",
      "\n",
      "\n",
      "This paper considers how monetary policy produces heterogeneous effects on euro area households, depending on the composition of their income and on the components of their wealth. We first review the existing evidence on how monetary policy affects income and wealth inequality. We then illustrate quantitatively how various channels of transmission—net interest rate exposure, intertemporal substitution and indirect income channels—affect individual euro area households. We find that the indirect income channel has an overwhelming importance, especially for households holding few or no liquid assets. The indirect income channel is therefore also a substantial driver of changes in consumption at the aggregate level.\n",
      "\n",
      "\n",
      "Net wealth across the Euro area-why household structure matters and how to control for it\n",
      "P Fessler, P Lindner, E Segalla\n",
      "\n",
      "\n",
      "We study the link between household structure and cross country differences in the wealth distribution using a recently compiled data set for the euro area (HFCS). We estimate counterfactual distributions using non-parametric re-weighting to examine the extent to which differences in the unconditional distributions of wealth across euro area countries can be explained by differences in household structure. We find that imposing a common household structure has strong effects on both the full unconditional distributions as well as its mappings to different inequality measures. For the median 50% of the differences are explained for Austria, 15% for Germany, 25% for Italy, 14% for Spain and 38% for Malta. For others as Belgium, France, Greece, Luxembourg, Portugal, Slovenia and Slovakia household structure masks the differences to the euro area median and Finland and the Netherlands change their position from below to above the euro area median. The impact on the mean and percentile ratios is similarly strong and varies with regard to direction and level across countries and their distributions. We can confirm the finding of Bover (2010) that the effect on the Gini is somewhat less pronounced, but might mask relevant information by being a net effect of different accumulated effects along the distribution. Country rankings based on almost all of these measures are severely affected alluding to the need for cautious interpretation when dealing with such rankings. Furthermore, the explanatory power of household structure changes along the net wealth distribution. Therefore we argue for more flexible controls for household structure. We provide such a set of controls to account for household type fixed effects which are based on the number of household members as well as possible combinations of age categories and gender.\n",
      "\n",
      "\n",
      "Macroeconomic experiences and risk taking of euro area households\n",
      "M Ampudia, M Ehrmann\n",
      "\n",
      "\n",
      "This paper studies to what extent the experiences of households shape their willingness to take financial risks. It starts by extending the U.S. evidence of Malmendier and Nagel (2011) to euro area households, and shows that experienced stock market returns matter in a statistically significant and economically substantial fashion: better experiences make households more willing to take financial risk and increase their stock market participation, even if euro area households seem to be discounting the past more quickly than those in the United States. Subsequently, the paper moves on to show that there are additional effects stemming from the experience of stock market crashes – which are different from those of stock market booms. Crashes stay in household’s memory and lower stock market participation, whereas booms raise participation, but their effect eventually fades out. Furthermore, households in countries that witnessed a particularly severe 2008 stock market crash give substantially more weight to the most recent experience, suggesting that in these countries an even more pronounced underinvestment in the stock market should be expected in the years to come.\n",
      "\n",
      "\n",
      "Wealth and Income in the Euro Area: Heterogeneity in Households' Behaviours?\n",
      "L Arrondel, M Roger, F Savignac\n",
      "\n",
      "\n",
      "This article aims at linking the household wealth and income distributions for 15 European countries using the Household Finance and Consumption Survey. We study the role played by the household’s location in the income distributions in determining its location in the wealth distribution. A generalized ordered probit model is estimated to explain the role played by the position in the income distribution and by intergenerational transfers on the probability to be in a given wealth decile in each country. As expected, we obtain that a rise in income or having received gifts and inheritances increases the probability to be in higher wealth deciles. Most importantly, we find evidences of heterogeneity in accumulation behaviours along the wealth distribution in France, Finland, Germany, Greece, Italy, Slovakia and Spain. The relative effect of income or inheritance on wealth accumulation varies, depending on the rank of the households in the wealth distribution. We also highlight some specificity in the top of the wealth distribution.\n",
      "\n",
      "\n",
      "Exploring differences in household debt across Euro Area countries and the United States\n",
      "D Christelis, M Ehrmann, D Georgarakos\n",
      "\n",
      "\n",
      "We use internationally comparable household-level data for ten euro area economies and the United States to investigate cross-country differences in debt holdings and the potential of debt overhang. U.S. households have the highest prevalence of both collateralized and non-collateralized debt, hold comparatively large amounts of loans outstanding, and face a higher debt-service burden. These differences are mainly attributed to the U.S. economic environment, which appears to be more conducive to both types of debt. For instance, differences in the economic environment between the United States and the median European country explain more than 85% of the overall difference in the prevalence of debt holdings. Even though U.S. households have higher income and financial wealth than their European counterparts, their debt burden remains comparatively elevated, primarily because a given level of collateral translates into a higher prevalence of collateralized debt, and larger amounts of it, in the United States. This suggests that U.S. households are relatively more vulnerable to adverse shocks.\n",
      "\n",
      "\n",
      "Wealth inequality and homeownership in Europe\n",
      "L Kaas, G Kocharkov, E Preugschat\n",
      "\n",
      "\n",
      "The recently published Household Finance and Consumption Survey has revealed large differences in wealth inequality between the countries of the Euro area. We find a strong negative correlation between wealth inequality and homeownership rates across countries. We use two decomposition methods to shed more light on this correlation. First, a Gini decomposition by homeownership status shows that the negative relationship is mostly driven by large between-group inequality across owners and renters. Second, to control for other observables, we conduct a detailed counterfactual decomposition of cross-country inequality differences. We confirm the major role for homeownership rates in accounting for the wealth inequality differences. Our analysis suggests that the cross-country variation is mostly driven by differences in the savings behavior of households in the bottom half of the wealth distribution and that those differences in savings are to a large extent channeled through housing wealth.\n",
      "\n",
      "\n",
      "Household saving behavior in the Euro Area\n",
      "J Le Blanc, A Porpiglia, F Teppa, J Zhu, M Ziegelmeyer\n",
      "\n",
      "\n",
      "We study saving motives and household saving behavior in fifteen euro-area countries using the first wave of the Household Finance and Consumption Survey that covers the years 2008-11. We find that precautionary saving is the most commonly reported motive in all countries, followed by saving for old-age provision. Preferences for other motives are then rather heterogeneous across countries. Saving for home purchase and precautionary saving are monotonically decreasingly important with age. Variables related to the structure of the tax system and to the generosity of the social security and welfare systems are important determinants of household saving. As for actual saving behavior, we find that most households in the euro area perceived their expenses over the last twelve months to be about the same as expenses in a \"normal\" year in the past and about the same as income over the last twelve months. The analysis by country reveals some degree of heterogeneity for this measure of self-assessed household saving: the countries that were hit most severely by the financial crisis display higher financial stress.\n",
      "\n",
      "\n",
      "Fiscal consolidation programs and income inequality\n",
      "P Brinca, M Homem Ferreira, FA Franco, ...\n",
      "\n",
      "\n",
      "Following the Great Recession, many European countries implemented fiscal consolidation policies aimed at reducing government debt. Using three independent data sources and three different empirical approaches, we document a strong positive relationship between higher income inequality and stronger recessive impacts of fiscal consolidation programs across time and place. To explain this finding, we develop a life-cycle, overlapping generations economy with uninsurable labor market risk. We calibrate our model to match key characteristics of a number of European economies, including the distribution of wages and wealth, social security, taxes and debt, and study the effects of fiscal consolidation programs. We find that higher income risk induces precautionary savings behavior, which decreases the proportion of credit-constrained agents in the economy. Credit-constrained agents have less elastic labor supply responses to fiscal consolidation achieved through either tax hikes or public spending cuts, and this explains the relationship between income inequality and the impact of fiscal consolidation programs. Our model produces a cross-country correlation between inequality and the fiscal consolidation multipliers, which is quite similar to that in the data.\n",
      "\n",
      "\n",
      "Rent or buy? the role of lifetime experiences of macroeconomic shocks within and across countries\n",
      "U Malmendier, A Steiny\n",
      "\n",
      "\n",
      "There are vast differences in homeownership rates across countries. We show that, both within and across countries, people’s decision to buy versus rent is strongly affected by macroeconomic shocks that they have experienced over their lifetimes so far. In a simple model with experience-based learning, we show that households are more likely to own their homes if they have experienced high inflation or high growth in the housing market. Using household-level data from 20 countries in the European Central Bank’s Household Finance and Consumption Survey (HFCS), we find that a 1 pp increase in experienced inflation predicts an increase of 8 percentage points in homeownership at the national level, and an increase of 45 percent in the odds of homeownership at the individual level. The results are robust to including a vast array of individual and housing-market controls. As predicted by the theory, the estimation result does not hold in countries with primarily variable rate mortgages, and it is weaker when other inflation hedges are easily available. Using data from the American Community Survey, we show that these experiences carry over to predict homeownership among immigrants to the United States. Finally, we also estimate similar effects for the first year of homeownership in the SHARE data. Our results imply that individual lifetime experiences of inflation have a significant and lasting impact on cross-country and within-country homeownership patterns.\n",
      "\n",
      "\n",
      "Public Insurance and Wealth Inequality-A Euro Area Analysis\n",
      "L Pham-Dao\n",
      "\n",
      "\n",
      "Since the release of the first wave of the Household Finance and Consumption Survey, the causes of the large euro area differences in private net wealth inequality have been at the forefront of the political debate. This paper assesses the quantitative importance of cross-country differences in labor market risks and social security institutions for euro area differences in private net wealth inequality. I document the empirical puzzle that euro area countries with the largest reduction in the income Gini coefficient through public transfers and with most generous welfare states, robustly show a higher inequality in private net wealth. Going back to the argument by Hubbard et al. (1995) that public insurance crowds out private savings especially of the poor, I construct a life cycle model with heterogeneous households and incomplete markets that features exogenous labor market risks, social transfers and public and occupational pensions. Calibrating the model to the actual euro area differences in the gross earnings process, unemployment dynamics and social security systems, it can account for 61.2% of the cross-country differences in the net wealth Gini coefficients for the bottom 95% of the wealth distribution. The model results suggest that welfare policies contribute with 47.3% to the wealth inequality differences across the euro area, while gross earnings inequality and unemployment can rationalize 13.9%.\n",
      "\n",
      "\n",
      "How does monetary policy affect income and wealth inequality? Evidence from quantitative easing in the euro area\n",
      "M Lenza, J Slacalek\n",
      "\n",
      "\n",
      "This paper studies the effects of quantitative easing on income and wealth of individual euro area households. The aggregate effects of quantitative easing are estimated in a multi-country VAR model of the four largest euro area countries, in which key variables affecting household income and wealth are included, such as the unemployment rate, wages, interest rates, house prices and stock prices. The aggregate effects are distributed across the individual households by means of a reduced-form simulation on micro data from the Household Finance and Consumption Survey, capturing the income composition, the portfolio composition and the earnings heterogeneity channels of transmission. We fi\u001c",
      "nd that the earnings heterogeneity channel plays a key role: quantitative easing compresses the income distribution since many households with lower incomes become employed. In contrast, monetary policy has only negligible effects on wealth inequality.\n",
      "\n",
      "\n",
      "Rental markets and wealth inequality in the Euro-area\n",
      "F Kindermann, S Kohls\n",
      "\n",
      "\n",
      "In this paper we argue that a country’s level of wealth inequality can be viewed as a reflection of the quality of its housing rental market. Using the ECB’s Household Finance and Consumption Survey (HFCS), we document that the aggregate homeownership rate and various measures of wealth inequality are negatively correlated across Euro Area countries. Empirically, this relationship is driven by the fact that in countries with lower homeownership rates a larger fraction of households only hold very low amounts of wealth. We show that a simple wedge in the rental market can explain the qualitative features of the data using a general-equilibrium life-cycle model of household investment and consumption. A larger wedge incentivizes households to save more at a young age in order to make a downpayment and buy a house. This leads not only to a higher homeownership rate but also overall fewer households with low wealth, decreasing crosssectional wealth inequality. Quantitatively, our model explains 54% of the variation in wealth inequality seen in the data. We show that the welfare losses associated with the rental market wedges identified by our model can be substantial.\n",
      "\n",
      "\n",
      "MPC Heterogeneity in Europe: Sources and Policy Implications\n",
      "M Ampudia, R Cooper, JL Blanc, G Zhu\n",
      "\n",
      "\n",
      "This paper studies household financial choices in four euro area countries. The goal of the analysis is to understand the sources of the differences in these choices and their implications for the impact of monetary policy on consumption. The estimation of key parameters uses a simulated method of moments approach to match moments related to asset market participation rates, portfolio shares and wealth to income ratios by education and country. The policy functions based upon the estimation are used to characterize the distributions of the marginal propensity to consume across households for each of the four countries. Due to this heterogeneity in consumption responses, monetary policy, operating through its effects on household income and asset market returns, has a differential impact on individuals within and across countries. Generally, poor households respond more to the income variations produced by monetary policy innovations while rich households respond more to policy-induced variations in stock returns. Finally, monetary contractions have a larger impact on consumption in Germany and France while expansions have a larger impact in Italy and Spain.\n",
      "\n",
      "\n",
      "Owning Up: Closely Held Firms and Wealth Inequality\n",
      "A Peter\n",
      "\n",
      "\n",
      "This paper studies how frictions in debt and equity markets affect wealth inequality in Eurozone countries. Using micro data on households and firms, I document that in more unequal countries, there are more privately held firms and ownership of publicly traded firms is more concentrated. I develop a dynamic general equilibrium model in which entrepreneurs have the option to run a private firm and issue debt, or go public and also issue outside equity. Both forms of external finance are subject to country-specific frictions. With more access to debt, entrepreneurs can run larger firms and are wealthier. Similar to debt, outside equity allows entrepreneurs to increase investment in their firm, but it also reduces their risk exposure, which lowers savings and wealth holdings. When parameters are chosen to match the facts I document on firm ownership and financing, the model successfully predicts differences in wealth concentration across countries.\n",
      "\n",
      "\n"
     ]
    }
   ],
   "source": [
    "for i in range(len(db)):\n",
    "    title = db['Title'][i]\n",
    "    author = db['Authors'][i]\n",
    "    abstract = db['Abstract'][i]\n",
    "    print(title)\n",
    "    print(author)\n",
    "    print(\"\\n\")\n",
    "    print(abstract)\n",
    "    print(\"\\n\")"
   ]
  },
  {
   "cell_type": "markdown",
   "metadata": {},
   "source": [
    "#  Presentation title: xxx\n"
   ]
  },
  {
   "cell_type": "markdown",
   "metadata": {},
   "source": [
    "## Section 1. literature survey that is based on the existing data"
   ]
  },
  {
   "cell_type": "markdown",
   "metadata": {},
   "source": [
    "### Section 1.1. Major topics covered by this literature\n",
    "\n",
    "- Drivers of wealth inequality \n",
    "   - Homeownership \n",
    "     - <cite data-cite=\"7250895/QK8EPBGS\"></cite>: differences in homeownership rates and house price dynamics are important for explaining wealth differences across euro area countries.\n",
    "     - <cite data-cite=\"7250895/DNPW7XVC\"></cite>: negative correlation between wealth inequality and home ownership, mostly driven by large between-group inequality across owners and renters.\n",
    "     - <cite data-cite=\"7250895/R8NAIB7B\"></cite>: wedges in reantal market are one of the important drivers of differences in wealth inequality across European countries. \n",
    "   - Institutions\n",
    "     - public insurance and labor risks. <cite data-cite=\"7250895/5NVRDSGH\"></cite>: wealth inequality across Euro Area countries mostly explained by the differences in welfare policies and less by labor income risks.\n",
    "     - household structure. <cite data-cite=\"7250895/CZ3XDZTX\"></cite>: imposing a common household structure has strong effects on both the full unconditional distributions as well as its mappings to different inequality measures.\n",
    "     - friction in the debt and equity market.<cite data-cite=\"7250895/DTHQHGZQ\"></cite>: more wealth inequality in countries where there are more private held firms and ownership of publicly traded firms is more concentrated.\n",
    "   - Income distribution\n",
    "     - <cite data-cite=\"7250895/R3NVYQYY\"></cite>: the location in the income distributions is positively correlated with the location in the wealth distribution. \n",
    "   - Distributional effects of monetary policy\n",
    "     - <cite data-cite=\"7250895/EIPKT7KF\"></cite>: monetary policy plays a limited role in driving wealth inequality compared to to income differences. \n",
    "     - <cite data-cite=\"7250895/7TCJF4DR\"></cite>: ECB's non-standard monetary policies produced more benefits to bottom-income group as the general economic and employment benifits overweigh those via financial markets. \n",
    "  \n",
    "   - Distributional effects of fiscal policies\n",
    "     - <cite data-cite=\"7250895/X43MNXDK\"></cite>: study the income inequality and stronger recessive impacts of fiscal consolidation programs in Euro Area countries in a calibrated life-cycle model.\n",
    "   - Distributional effects of asset price increase\n",
    "     - <cite data-cite=\"7250895/U8D8T656\"></cite>: different impacts of changes in housing, debt and equity prices on households with different levels of wealth. \n",
    "\n",
    "\n",
    " \n",
    "- Implications of wealth inequality and market incompleteness\n",
    "   - The wealth effect of consumption\n",
    "     - <cite data-cite=\"7250895/ZQKHNQHG\"></cite>: a survey paper on wealth effect of consumption.\n",
    "   - Heterogeneity in MPCs\n",
    "     - <cite data-cite=\"7250895/LYGFNASY\"></cite>: \"wealthy hand-to-month\".\n",
    "     - <cite data-cite=\"7250895/4BG3W9GZ\"></cite>: heterogeneous MPCS across 15 Euro Zone countries.\n",
    "     \n",
    "   - Monetary policy transmission\n",
    "     - <cite data-cite=\"7250895/X7STV7A6\"></cite>:  the indirect income channel dominates other transmission channels of monetary policies, especially for households holding few or no liquid assets.\n",
    "     - <cite data-cite=\"7250895/5AIFVER9\"></cite>: monetary policies, operating through its effects on household income and asset market returns, has a differential impact on individuals within and across four Euro area countries. \n",
    "   - Precautionary saving and deflationary spirals: <cite data-cite=\"7250895/RPWC4MNU\"></cite>\n",
    "\n",
    "- Use of the data on other questions\n",
    "\n",
    "  - How macro experiences affect saving decisions? \n",
    "     - <cite data-cite=\"7250895/265UI24R\"></cite>: experience of stock market returns affect households's risk-taking and stock market participation across countries in the Euro Area.\n",
    "     - <cite data-cite=\"7250895/8HVWLRJK\"></cite>: rent-or-buy decisions shaped by macroeconomic experiences. For instance, higher inflation experiences increases likelihood of home ownership. \n",
    "  - Social interactions and borrowing behaviors.\n",
    "     - <cite data-cite=\"7250895/HL2L3Y36\"></cite>: perceived peer income contributes affects debt choice and financial fragility of households.\n",
    "  - Financial decisions with bounded rationality \n",
    "     - <cite data-cite=\"7250895/7TLDTVUQ\"></cite>: a lecture on consumer financial regulation in an environment where many households lack the knowledge to manage their financial affairs effectively.\n",
    "  - Saving and borrowing behaviors across countries\n",
    "     - <cite data-cite=\"7250895/XE6JTE7U\"></cite>: relatively homogeneity in saving preferences but heterogeneity in borrowing constraints across Euro Zone countries.\n",
    "     - <cite data-cite=\"7250895/VT3W29DZ\"></cite>: how institutional factors affect the distribution of debt across Euro area countries.\n",
    "     - <cite data-cite=\"7250895/4A5LC8LW\"></cite>: the drivers of differences in debt-holding positions between the U.S. and median European countries.\n",
    "     - <cite data-cite=\"7250895/XE6JTE7U\"></cite> examines self-assessed saving motives in 15 European countries, the most common one of which is precautionary. \n",
    "  - Diagosis of euro zone debt crisis\n",
    "     - <cite data-cite=\"7250895/K8YWNJB6\"></cite>: evaluate impacts of private leverage, fiscal austerity and sudden stop before and after the crisis.\n",
    "    \n",
    "  - Macroprudential policy and household balance sheet\n",
    "     - <cite data-cite=\"7250895/X7STV7A6\"></cite>: stress testing on household balance sheets across Euro Zone countries. \n",
    "  - Top tail of the wealth inequality\n",
    "    - <cite data-cite=\"7250895/LRFKDVCT\"></cite>: proposes an approach to address non-response of wealthy group and underreporting of wealth surveys.\n",
    "    - <cite data-cite=\"7250895/F7FEBMJE\"></cite>: adding extreme observations help remove downward bias of wealth distribution from survey. \n",
    "    \n",
    "  - Mortgage choices\n",
    "    - <cite data-cite=\"7250895/JRXR8Q7W\"></cite>: studied the mortgage choice between fixed-interest-rate mortgages (FRMs) and adjustable-interest-rate mortgages (ARMs) across countries.\n",
    "  \n",
    "  \n",
    "### Section 1.2.  Merits of the HFCS\n",
    "\n",
    "- Cross-country variation\n",
    "  \n",
    "  - institutional differences \n",
    "    - labor markets\n",
    "    - financial markets\n",
    "    - housing market\n",
    "- Cross-country variation but with a single currency zone \n",
    "  - particularly useful to study how monetary policy generates distributional consequences depending on the country's specific characteristics.\n",
    "  - before the credit boom: the role of household leverage and private borrowing \n",
    "  - after the euro debt crisis, credit supply shock through the bank balance sheet  \n",
    "  \n",
    "- Cultural differences in affecting household saving borrowing decisions\n",
    "    - in particular, the intergenerational concerns\n",
    "  \n",
    "- Coexistence of wealth/income data\n",
    "  \n",
    "- The exact form of wealth \n",
    "  - composition of the household assets in terms of liquidity\n",
    "  - the particular role of housing wealth"
   ]
  },
  {
   "cell_type": "markdown",
   "metadata": {},
   "source": [
    "### Section 2. A proposal to including a module on expectations\n",
    "\n",
    "- What is included in the HFCS \n",
    "  - Only realized variables, no question on expectations\n",
    "  - But the survey may benefit from including at least some expectation questions\n",
    "\n",
    "\n",
    "- Why include expectations in the existing survey? \n",
    "\n",
    " - General rationale:\n",
    "   - Economists like the approach revealed preference, but strong assumption on expectation is needed when both preference and beliefs are not observable. (Manski's idea)\n",
    " \n",
    "   - Better identifiction in empirical macro research relies on turely _unanticipated_ shocks by the agents? The best way to control for the antipated change is to directly available in the surveys.\n",
    "   \n",
    "   \n",
    " - Better answer many questions that puzzle macro/finance literature \n",
    "     - Housing bubble driven by change in credit conditions, or beliefs?\n",
    "     - Equity premium puzzle: the current framework requires an unrealistically large degree of risk-aversion to be compatible with the observed stock market participation and risk premium. But this may be because the agents' perception of the risk profile facing their decisions are different. \n",
    "     \n",
    "     - The literature on macroeconomic experiences and household investment decisions approximate experience by the year of birth of individuals, but we can do better by asking people why?\n",
    "     \n",
    "\n",
    "- What should be included in future (ranked by decreasing priority) \n",
    "\n",
    "  - Micro variables \n",
    "     - from macro to micro \n",
    "     - more individual variables are more relevant to household decisions, i.e. labor income, asset market returns, housing prices, expectations help address participation/asset pricing puzzle\n",
    "\n",
    "  - Higher Moments\n",
    "     - from average forecast to density forecast\n",
    "     - probability type of questions in general, not a continuous variable, at least \n",
    "     - higher-order uncertainty, i.e. model uncertainty. \n",
    "\n",
    "  - Structure of the survey \n",
    "     - the panel, i.e. individuals need to be asked for repeated times \n",
    "     - inclusion of both realization and expectation \n",
    "        - then better identification of unexpected shocks\n",
    "        - allowing to characterize deviations of expectation from the ``truth''\n",
    " \n",
    "  - Other Questions\n",
    "     - Not just what but also why. \n",
    "         - subjective beliefs \n",
    "         - information sources\n",
    "         - experience \n",
    "        \n",
    "     - Importance of having expectations as well as behavioral intentions and decisions, \n",
    "       - at least questions that express the inclination of actions "
   ]
  },
  {
   "cell_type": "markdown",
   "metadata": {},
   "source": [
    "## Reference \n",
    "\n",
    "1. [HFCS Core Questionaire](https://www.ecb.europa.eu/home/pdf/research/hfcn/HFCS_Core_and_derived_variables_Wave2.pdf?8d19475a7edb8ff7de6d99a885e527ec)"
   ]
  }
 ],
 "metadata": {
  "cite2c": {
   "citations": {
    "7250895/265UI24R": {
     "DOI": "10.1016/j.euroecorev.2016.09.012",
     "URL": "http://www.sciencedirect.com/science/article/pii/S0014292116301581",
     "abstract": "This paper studies to what extent the experiences of households shape their willingness to take financial risks. It starts by extending the U.S. evidence of Malmendier and Nagel (2011) to euro area households, and shows that experienced stock market returns matter in a statistically significant and economically substantial fashion: better experiences make households more willing to take financial risk and increase their stock market participation, even if euro area households seem to be discounting the past more quickly than those in the United States. Subsequently, the paper moves on to show that there are additional effects stemming from the experience of stock market crashes – which are different from those of stock market booms. Crashes stay in household’s memory and lower stock market participation, whereas booms raise participation, but their effect eventually fades out. Furthermore, households in countries that witnessed a particularly severe 2008 stock market crash give substantially more weight to the most recent experience, suggesting that in these countries an even more pronounced underinvestment in the stock market should be expected in the years to come.",
     "accessed": {
      "day": 20,
      "month": 9,
      "year": 2019
     },
     "author": [
      {
       "family": "Ampudia",
       "given": "Miguel"
      },
      {
       "family": "Ehrmann",
       "given": "Michael"
      }
     ],
     "container-title": "European Economic Review",
     "container-title-short": "European Economic Review",
     "id": "7250895/265UI24R",
     "issued": {
      "day": 1,
      "month": 1,
      "year": 2017
     },
     "journalAbbreviation": "European Economic Review",
     "page": "146-156",
     "page-first": "146",
     "title": "Macroeconomic experiences and risk taking of euro area households",
     "type": "article-journal",
     "volume": "91"
    },
    "7250895/2C4456TZ": {
     "abstract": "There are vast diﬀerences in homeownership rates across countries. We show that, both within and across countries, people’s decision to buy versus rent is strongly affected by macroeconomic shocks that they have experienced over their lifetimes so far. In a simple model with experience-based learning, we show that households are more likely to own their homes if they have experienced high inﬂation or high growth in the housing market. Using household-level data from 20 countries in the European Central Bank’s Household Finance and Consumption Survey (HFCS), we ﬁnd that a 1 pp increase in experienced inﬂation predicts an increase of 8 percentage points in homeownership at the national level, and an increase of 45 percent in the odds of homeownership at the individual level. The results are robust to including a vast array of individual and housing-market controls. As predicted by the theory, the estimation result does not hold in countries with primarily variable rate mortgages, and it is weaker when other inﬂation hedges are easily available. Using data from the American Community Survey, we show that these experiences carry over to predict homeownership among immigrants to the United States. Finally, we also estimate similar eﬀects for the ﬁrst year of homeownership in the SHARE data. Our results imply that individual lifetime experiences of inﬂation have a signiﬁcant and lasting impact on cross-country and within-country homeownership patterns.",
     "author": [
      {
       "family": "Malmendier",
       "given": "Ulrike"
      },
      {
       "family": "Steiny",
       "given": "Alexandra"
      }
     ],
     "id": "7250895/2C4456TZ",
     "language": "en",
     "page": "71",
     "page-first": "71",
     "title": "Rent or Buy? The Role of Lifetime Experiences of Macroeconomic Shocks within and across Countries",
     "type": "article-journal"
    },
    "7250895/4A5LC8LW": {
     "URL": "https://www.econstor.eu/handle/10419/123766",
     "abstract": "We use internationally comparable household-level data for ten euro area economies and the United States to investigate cross-country differences in debt holdings and the potential of debt overhang. U.S. households have the highest prevalence of both collateralized and non-collateralized debt, hold comparatively large amounts of loans outstanding, and face a higher debt-service burden. These differences are mainly attributed to the U.S. economic environment, which appears to be more conducive to both types of debt. For instance, differences in the economic environment between the United States and the median European country explain more than 85% of the overall difference in the prevalence of debt holdings. Even though U.S. households have higher income and financial wealth than their European counterparts, their debt burden remains comparatively elevated, primarily because a given level of collateral translates into a higher prevalence of collateralized debt, and larger amounts of it, in the United States. This suggests that U.S. households are relatively more vulnerable to adverse shocks.",
     "accessed": {
      "day": 20,
      "month": 9,
      "year": 2019
     },
     "author": [
      {
       "family": "Christelis",
       "given": "Dimitris"
      },
      {
       "family": "Ehrmann",
       "given": "Michael"
      },
      {
       "family": "Georgarakos",
       "given": "Dimitris"
      }
     ],
     "genre": "Working Paper",
     "id": "7250895/4A5LC8LW",
     "issued": {
      "year": 2015
     },
     "language": "eng",
     "number": "2015-16",
     "publisher": "Bank of Canada Working Paper",
     "title": "Exploring Differences in Household Debt Across Euro Area Countries and the United States",
     "type": "report"
    },
    "7250895/4BG3W9GZ": {
     "DOI": "10.1257/aer.104.5.107",
     "URL": "https://www.aeaweb.org/articles?id=10.1257/aer.104.5.107",
     "abstract": "Using a standard, realistically calibrated model of buffer-stock saving with transitory and permanent income shocks, we study how cross-country differences in the wealth distribution and household income dynamics affect the marginal propensity to consume out of transitory shocks (MPC). Across the 15 countries in our sample, we find that the aggregate consumption response ranges between 0.1 and 0.4 and is stronger (i) in economies with large wealth inequality, where a larger proportion of households has little wealth, (ii) under larger transitory income shocks, and (iii) when we consider households only use liquid assets (rather than net wealth) to smooth consumption.",
     "accessed": {
      "day": 20,
      "month": 9,
      "year": 2019
     },
     "author": [
      {
       "family": "Carroll",
       "given": "Christopher D."
      },
      {
       "family": "Slacalek",
       "given": "Jiri"
      },
      {
       "family": "Tokuoka",
       "given": "Kiichi"
      }
     ],
     "container-title": "American Economic Review",
     "id": "7250895/4BG3W9GZ",
     "issue": "5",
     "issued": {
      "month": 5,
      "year": 2014
     },
     "language": "en",
     "page": "107-111",
     "page-first": "107",
     "shortTitle": "The Distribution of Wealth and the MPC",
     "title": "The Distribution of Wealth and the MPC: Implications of New European Data",
     "title-short": "The Distribution of Wealth and the MPC",
     "type": "article-journal",
     "volume": "104"
    },
    "7250895/5AIFVER9": {
     "URL": "http://www.nber.org/papers/w25082",
     "abstract": "This paper studies household financial choices in four euro area countries. The goal of the analysis is to understand the sources of the differences in these choices and their implications for the impact of monetary policy on consumption. The estimation of key parameters uses a simulated method of moments approach to match moments related to asset market participation rates, portfolio shares and wealth to income ratios by education and country. The policy functions based upon the estimation are used to characterize the distributions of the marginal propensity to consume across households for each of the four countries. Due to this heterogeneity in consumption responses, monetary policy, operating through its effects on household income and asset market returns, has a differential impact on individuals within and across countries. Generally, poor households respond more to the income variations produced by monetary policy innovations while rich households respond more to policy-induced variations in stock returns. Finally, monetary contractions have a larger impact on consumption in Germany and France while expansions have a larger impact in Italy and Spain.",
     "accessed": {
      "day": 20,
      "month": 9,
      "year": 2019
     },
     "author": [
      {
       "family": "Ampudia",
       "given": "Miguel"
      },
      {
       "family": "Cooper",
       "given": "Russell"
      },
      {
       "family": "Blanc",
       "given": "Julia Le"
      },
      {
       "family": "Zhu",
       "given": "Guozhong"
      }
     ],
     "genre": "Working Paper",
     "id": "7250895/5AIFVER9",
     "issued": {
      "month": 9,
      "year": 2018
     },
     "note": "DOI: 10.3386/w25082",
     "number": "25082",
     "publisher": "National Bureau of Economic Research",
     "shortTitle": "MPC Heterogeneity in Europe",
     "title": "MPC Heterogeneity in Europe: Sources and Policy Implications",
     "title-short": "MPC Heterogeneity in Europe",
     "type": "report"
    },
    "7250895/5BUDWRW5": {
     "URL": "https://papers.ssrn.com/sol3/papers.cfm?abstract_id=3275976",
     "accessed": {
      "day": 20,
      "month": 9,
      "year": 2019
     },
     "id": "7250895/5BUDWRW5",
     "title": "How Does Monetary Policy Affect Income and Wealth Inequality? Evidence from Quantitative Easing in the Euro Area by Michele Lenza, Jiri Slacalek :: SSRN",
     "type": "article"
    },
    "7250895/5NVRDSGH": {
     "URL": "https://www.econstor.eu/handle/10419/145942",
     "abstract": "Since the release of the first wave of the Household Finance and Consumption Survey, the causes of the large euro area differences in private net wealth inequality have been at the forefront of the political debate. This paper assesses the quantitative importance of cross-country differences in labor market risks and social security institutions for euro area differences in private net wealth inequality. I document the empirical puzzle that euro area countries with the largest reduction in the income Gini coefficient through public transfers and with most generous welfare states, robustly show a higher inequality in private net wealth. Going back to the argument by Hubbard et al. (1995) that public insurance crowds out private savings especially of the poor, I construct a life cycle model with heterogeneous households and incomplete markets that features exogenous labor market risks, social transfers and public and occupational pensions. Calibrating the model to the actual euro area differences in the gross earnings process, unemployment dynamics and social security systems, it can account for 61.2% of the cross-country differences in the net wealth Gini coefficients for the bottom 95% of the wealth distribution. The model results suggest that welfare policies contribute with 47.3% to the wealth inequality differences across the euro area, while gross earnings inequality and unemployment can rationalize 13.9%.",
     "accessed": {
      "day": 20,
      "month": 9,
      "year": 2019
     },
     "author": [
      {
       "family": "Pham-Dao",
       "given": "Lien"
      }
     ],
     "id": "7250895/5NVRDSGH",
     "issued": {
      "year": 2016
     },
     "language": "eng",
     "publisher": "Kiel und Hamburg: ZBW - Deutsche Zentralbibliothek für Wirtschaftswissenschaften, Leibniz-Informationszentrum Wirtschaft",
     "title": "Public Insurance and Wealth Inequality - A Euro Area Analysis",
     "type": "paper-conference"
    },
    "7250895/6UA6VI8Z": {
     "author": [
      {
       "family": "Peter",
       "given": "Alessandra"
      }
     ],
     "id": "7250895/6UA6VI8Z",
     "title": "Owning Up: Closely Held Firms and Wealth Inequality",
     "type": "article-journal"
    },
    "7250895/7TCJF4DR": {
     "DOI": "10.1016/j.jimonfin.2017.11.006",
     "URL": "http://www.sciencedirect.com/science/article/pii/S0261560617302292",
     "abstract": "We study empirically the distributional implications of ECB non-standard monetary policy by exploiting a rich micro dataset on Italian households’ income and wealth, and contemporaneously taking into account all relevant transmission channels. Our results do not support the claim that an unconventional monetary loosening acts as a “reverse Robin Hood”. Larger benefits accrue to households at the bottom of the income scale, as the effects via the stimulus to economic activity and employment outweigh those via financial markets. The response of net wealth is moderately U-shaped: less wealthy households take advantage of their leveraged positions, wealthier households of their larger share of financial assets. Overall, the effects on inequality are negligible. The results also suggest that savers are not hurt, as the decrease in the remuneration of assets is compensated by support to labour income and by capital gains.",
     "accessed": {
      "day": 20,
      "month": 9,
      "year": 2019
     },
     "author": [
      {
       "family": "Casiraghi",
       "given": "Marco"
      },
      {
       "family": "Gaiotti",
       "given": "Eugenio"
      },
      {
       "family": "Rodano",
       "given": "Lisa"
      },
      {
       "family": "Secchi",
       "given": "Alessandro"
      }
     ],
     "container-title": "Journal of International Money and Finance",
     "container-title-short": "Journal of International Money and Finance",
     "id": "7250895/7TCJF4DR",
     "issued": {
      "day": 1,
      "month": 7,
      "year": 2018
     },
     "journalAbbreviation": "Journal of International Money and Finance",
     "page": "215-235",
     "page-first": "215",
     "shortTitle": "A “reverse Robin Hood”?",
     "title": "A “reverse Robin Hood”? The distributional implications of non-standard monetary policy for Italian households",
     "title-short": "A “reverse Robin Hood”?",
     "type": "article-journal",
     "volume": "85"
    },
    "7250895/7TLDTVUQ": {
     "DOI": "10.1257/aer.p20161127",
     "URL": "https://www.aeaweb.org/articles?id=10.1257/aer.p20161127",
     "abstract": "This lecture considers the case for consumer financial regulation in an environment where many households lack the knowledge to manage their financial affairs effectively. The lecture argues that financial ignorance is pervasive and unsurprising given the complexity of modern financial products, and that it contributes meaningfully to the evolution of wealth inequality. The lecture uses a stylized model to discuss the welfare economics of paternalistic intervention in financial markets, and discusses several specific examples including asset allocation in retirement savings, fees for unsecured short-term borrowing, and reverse mortgages.",
     "accessed": {
      "day": 20,
      "month": 9,
      "year": 2019
     },
     "author": [
      {
       "family": "Campbell",
       "given": "John Y."
      }
     ],
     "container-title": "American Economic Review",
     "id": "7250895/7TLDTVUQ",
     "issue": "5",
     "issued": {
      "month": 5,
      "year": 2016
     },
     "language": "en",
     "page": "1-30",
     "page-first": "1",
     "shortTitle": "Restoring Rational Choice",
     "title": "Restoring Rational Choice: The Challenge of Consumer Financial Regulation",
     "title-short": "Restoring Rational Choice",
     "type": "article-journal",
     "volume": "106"
    },
    "7250895/8HVWLRJK": {
     "author": [
      {
       "family": "Malmendier",
       "given": "Ulrike"
      },
      {
       "family": "Steiny",
       "given": "Alexandra"
      }
     ],
     "container-title": "CEPR network event on household finance",
     "id": "7250895/8HVWLRJK",
     "issued": {
      "year": 2016
     },
     "page": "6–7",
     "page-first": "6",
     "title": "Rent or buy? the role of lifetime experiences of macroeconomic shocks within and across countries",
     "type": "article-journal"
    },
    "7250895/ALQZEIDA": {
     "URL": "http://www.sciencedirect.com/science/article/pii/S0169721811024075",
     "abstract": "We discuss recent developments in the literature that studies how the dynamics of earnings and wages affect consumption choices over the life cycle. We start by analyzing the theoretical impact of income changes on consumption—highlighting the role of persistence, information, size and insurability of changes in economic resources. We next examine the empirical contributions, distinguishing between papers that use only income data and those that use both income and consumption data. The latter do this for two purposes. First, one can make explicit assumptions about the structure of credit and insurance markets and identify the income process or the information set of the individuals. Second, one can assume that the income process or the amount of information that consumers have are known and test the implications of the theory. In general there is an identification issue that has only recently being addressed with better data or better “experiments”. We conclude with a discussion of the literature that endogenizes people’s earnings and therefore change the nature of risk faced by households.",
     "accessed": {
      "day": 27,
      "month": 9,
      "year": 2019
     },
     "author": [
      {
       "family": "Meghir",
       "given": "Costas"
      },
      {
       "family": "Pistaferri",
       "given": "Luigi"
      }
     ],
     "container-title": "Handbook of Labor Economics",
     "editor": [
      {
       "family": "Card",
       "given": "David"
      },
      {
       "family": "Ashenfelter",
       "given": "Orley"
      }
     ],
     "id": "7250895/ALQZEIDA",
     "issued": {
      "day": 1,
      "month": 1,
      "year": 2011
     },
     "note": "DOI: 10.1016/S0169-7218(11)02407-5",
     "page": "773-854",
     "page-first": "773",
     "publisher": "Elsevier",
     "title": "Chapter 9 - Earnings, Consumption and Life Cycle Choices**Thanks to Misha Dworsky and Itay Saporta for excellent research assistance, and to Giacomo De Giorgi, Mario Padula and Gianluca Violante for comments. Pistaferri’s work on this chapter was partly funded from NIH/NIA under grant 1R01AG032029-01 and NSF under grant SES-0921689. Costas Meghir thanks the ESRC for funding under the Professorial Fellowship Scheme grant RES-051-27-0204 and under the ESRC centre at the IFS.",
     "type": "chapter",
     "volume": "4"
    },
    "7250895/CZ3XDZTX": {
     "URL": "https://papers.ssrn.com/abstract=2408451",
     "abstract": "We study the link between household structure and cross country differences in the wealth distribution using a recently compiled data set for the euro area (HFCS). We estimate counterfactual distributions using non-parametric re-weighting to examine the extent to which differences in the unconditional distributions of wealth across euro area countries can be explained by differences in household structure. We find that imposing a common household structure has strong effects on both the full unconditional distributions as well as its mappings to different inequality measures. For the median 50% of the differences are explained for Austria, 15% for Germany, 25% for Italy, 14% for Spain and 38% for Malta. For others as Belgium, France, Greece, Luxembourg, Portugal, Slovenia and Slovakia household structure masks the differences to the euro area median and Finland and the Netherlands change their position from below to above the euro area median. The impact on the mean and percentile ratios is similarly strong and varies with regard to direction and level across countries and their distributions. We can confirm the finding of Bover (2010) that the effect on the Gini is somewhat less pronounced, but might mask relevant information by being a net effect of different accumulated effects along the distribution. Country rankings based on almost all of these measures are severely affected alluding to the need for cautious interpretation when dealing with such rankings. Furthermore, the explanatory power of household structure changes along the net wealth distribution. Therefore we argue for more flexible controls for household structure. We provide such a set of controls to account for household type fixed effects which are based on the number of household members as well as possible combinations of age categories and gender.",
     "accessed": {
      "day": 20,
      "month": 9,
      "year": 2019
     },
     "author": [
      {
       "family": "Fessler",
       "given": "Pirmin"
      },
      {
       "family": "Lindner",
       "given": "Peter"
      },
      {
       "family": "Segalla",
       "given": "Esther"
      }
     ],
     "event-place": "Rochester, NY",
     "genre": "SSRN Scholarly Paper",
     "id": "7250895/CZ3XDZTX",
     "issued": {
      "day": 13,
      "month": 3,
      "year": 2014
     },
     "language": "en",
     "number": "ID 2408451",
     "publisher": "Social Science Research Network",
     "publisher-place": "Rochester, NY",
     "title": "Net Wealth across the Euro Area - Why Household Structure Matters and How to Control for It",
     "type": "report"
    },
    "7250895/DNPW7XVC": {
     "author": [
      {
       "family": "Kaas",
       "given": "Leo"
      },
      {
       "family": "Kocharkov",
       "given": "Georgi"
      },
      {
       "family": "Preugschat",
       "given": "Edgar"
      }
     ],
     "id": "7250895/DNPW7XVC",
     "issued": {
      "year": 2015
     },
     "title": "Wealth inequality and homeownership in Europe",
     "type": "article-journal"
    },
    "7250895/DTHQHGZQ": {
     "abstract": "This paper studies how frictions in debt and equity markets aﬀect wealth inequality in Eurozone countries. Using micro data on households and ﬁrms, I document that in more unequal countries, there are more privately held ﬁrms and ownership of publicly traded ﬁrms is more concentrated. I develop a dynamic general equilibrium model in which entrepreneurs have the option to run a private ﬁrm and issue debt, or go public and also issue outside equity. Both forms of external ﬁnance are subject to country-speciﬁc frictions. With more access to debt, entrepreneurs can run larger ﬁrms and are wealthier. Similar to debt, outside equity allows entrepreneurs to increase investment in their ﬁrm, but it also reduces their risk exposure, which lowers savings and wealth holdings. When parameters are chosen to match the facts I document on ﬁrm ownership and ﬁnancing, the model successfully predicts diﬀerences in wealth concentration across countries.",
     "author": [
      {
       "family": "Peter",
       "given": "Alessandra"
      }
     ],
     "id": "7250895/DTHQHGZQ",
     "language": "en",
     "page": "68",
     "page-first": "68",
     "title": "Owning Up: Closely Held Firms and Wealth Inequality",
     "type": "article-journal"
    },
    "7250895/EIPKT7KF": {
     "author": [
      {
       "family": "Lenza",
       "given": "Michele"
      },
      {
       "family": "Slacalek",
       "given": "Jiri"
      }
     ],
     "id": "7250895/EIPKT7KF",
     "issued": {
      "year": 2018
     },
     "title": "How does monetary policy affect income and wealth inequality? Evidence from quantitative easing in the euro area",
     "type": "article-journal"
    },
    "7250895/EVD6UVHW": {
     "URL": "https://onlinelibrary.wiley.com/doi/full/10.1111/roiw.12279",
     "accessed": {
      "day": 20,
      "month": 9,
      "year": 2019
     },
     "id": "7250895/EVD6UVHW",
     "title": "How Fat is the Top Tail of the Wealth Distribution? - Vermeulen - 2018 - Review of Income and Wealth - Wiley Online Library",
     "type": "article"
    },
    "7250895/F7FEBMJE": {
     "author": [
      {
       "family": "Vermeulen",
       "given": "Philip"
      }
     ],
     "container-title": "Review of Income and Wealth",
     "id": "7250895/F7FEBMJE",
     "issue": "2",
     "issued": {
      "year": 2018
     },
     "page": "357–387",
     "page-first": "357",
     "title": "How fat is the top tail of the wealth distribution?",
     "type": "article-journal",
     "volume": "64"
    },
    "7250895/FJ23YFVA": {
     "URL": "https://onlinelibrary.wiley.com/doi/full/10.1111/roiw.12279",
     "accessed": {
      "day": 20,
      "month": 9,
      "year": 2019
     },
     "id": "7250895/FJ23YFVA",
     "title": "How Fat is the Top Tail of the Wealth Distribution? - Vermeulen - 2018 - Review of Income and Wealth - Wiley Online Library",
     "type": "article"
    },
    "7250895/HL2L3Y36": {
     "DOI": "10.1093/rfs/hhu014",
     "URL": "https://academic.oup.com/rfs/article/27/5/1404/1582750",
     "abstract": "Abstract.  Can concern with relative standing, which has been shown to influence consumption and labor supply, also increase borrowing and the likelihood of fin",
     "accessed": {
      "day": 20,
      "month": 9,
      "year": 2019
     },
     "author": [
      {
       "family": "Georgarakos",
       "given": "Dimitris"
      },
      {
       "family": "Haliassos",
       "given": "Michael"
      },
      {
       "family": "Pasini",
       "given": "Giacomo"
      }
     ],
     "container-title": "The Review of Financial Studies",
     "container-title-short": "Rev Financ Stud",
     "id": "7250895/HL2L3Y36",
     "issue": "5",
     "issued": {
      "day": 1,
      "month": 5,
      "year": 2014
     },
     "journalAbbreviation": "Rev Financ Stud",
     "language": "en",
     "page": "1404-1433",
     "page-first": "1404",
     "title": "Household Debt and Social Interactions",
     "type": "article-journal",
     "volume": "27"
    },
    "7250895/I84A95VL": {
     "URL": "https://papers.ssrn.com/sol3/papers.cfm?abstract_id=2669365",
     "accessed": {
      "day": 20,
      "month": 9,
      "year": 2019
     },
     "id": "7250895/I84A95VL",
     "title": "Wealth Inequality and Homeownership in Europe by Leo Kaas, Georgi Kocharkov, Edgar Preugschat :: SSRN",
     "type": "article"
    },
    "7250895/JRXR8Q7W": {
     "URL": "https://papers.ssrn.com/abstract=2381868",
     "abstract": "Mortgages constitute the largest part of household debt. An essential choice when taking out a mortgage is between fixed-interest-rate mortgages (FRMs) and adjustable-interest-rate mortgages (ARMs). However, so far, no comprehensive cross-country study has analyzed what determines household demand for mortgage types, a task that this paper takes up using new data for the euro area. Our results support the hypothesis of Campbell and Cocco (2003) that the decision is best described as one of household risk management: income volatility reduces the take-out of ARMs, while increasing duration and relative size of the mortgages increase it. Controlling for other supply factors through country fixed effects, loan pricing also matters, as expected, with ARMs becoming more attractive when yield spreads rise. The paper also conducts a simulation exercise to identify how the easing of monetary policy during the financial crisis affected mortgage holders. It shows that the resulting reduction in mortgage rates produced a substantial decline in debt burdens among mortgage-holding households, especially in countries where households have higher debt burdens and a larger share of ARMs, as well as for some disadvantaged groups of households, such as those with low income.",
     "accessed": {
      "day": 20,
      "month": 9,
      "year": 2019
     },
     "author": [
      {
       "family": "Ehrmann",
       "given": "Michael"
      },
      {
       "family": "Ziegelmeyer",
       "given": "Michael"
      }
     ],
     "event-place": "Rochester, NY",
     "genre": "SSRN Scholarly Paper",
     "id": "7250895/JRXR8Q7W",
     "issued": {
      "day": 20,
      "month": 1,
      "year": 2014
     },
     "language": "en",
     "number": "ID 2381868",
     "publisher": "Social Science Research Network",
     "publisher-place": "Rochester, NY",
     "title": "Household Risk Management and Actual Mortgage Choice in the Euro Area",
     "type": "report"
    },
    "7250895/K8YWNJB6": {
     "DOI": "10.1257/aer.20150630",
     "URL": "https://www.aeaweb.org/articles?id=10.1257/aer.20150630",
     "abstract": "We provide a comprehensive account of the dynamics of eurozone countries from 2000 to 2012. We analyze private leverage, fiscal policy, labor costs, and spreads, and we propose a model and an identification strategy to separate the impact of credit cycles, excessive government spending, and sudden stops. We then ask how periphery countries would have fared with different policies. We find that countries could have stabilized their employment if they had followed more conservative fiscal policies during the boom. Macroprudential policies and an early intervention by the central bank to prevent market segmentation and reduce fiscal austerity would also have significantly reduced the recession.",
     "accessed": {
      "day": 20,
      "month": 9,
      "year": 2019
     },
     "author": [
      {
       "family": "Martin",
       "given": "Philippe"
      },
      {
       "family": "Philippon",
       "given": "Thomas"
      }
     ],
     "container-title": "American Economic Review",
     "id": "7250895/K8YWNJB6",
     "issue": "7",
     "issued": {
      "month": 7,
      "year": 2017
     },
     "language": "en",
     "page": "1904-1937",
     "page-first": "1904",
     "shortTitle": "Inspecting the Mechanism",
     "title": "Inspecting the Mechanism: Leverage and the Great Recession in the Eurozone",
     "title-short": "Inspecting the Mechanism",
     "type": "article-journal",
     "volume": "107"
    },
    "7250895/LRFKDVCT": {
     "DOI": "10.1257/aer.p20161021",
     "URL": "https://www.aeaweb.org/articles?id=10.1257/aer.p20161021",
     "abstract": "This paper uses the Household Finance and Consumption Survey to construct new estimates of top wealth shares in Germany, France, Spain, Italy, Belgium, Austria, Finland and The Netherlands. It provides a methodology to address simultaneously non-response and underreporting in wealth surveys.",
     "accessed": {
      "day": 20,
      "month": 9,
      "year": 2019
     },
     "author": [
      {
       "family": "Vermeulen",
       "given": "Philip"
      }
     ],
     "container-title": "American Economic Review",
     "id": "7250895/LRFKDVCT",
     "issue": "5",
     "issued": {
      "month": 5,
      "year": 2016
     },
     "language": "en",
     "page": "646-650",
     "page-first": "646",
     "title": "Estimating the Top Tail of the Wealth Distribution",
     "type": "article-journal",
     "volume": "106"
    },
    "7250895/LYGFNASY": {
     "URL": "http://www.nber.org/papers/w20073",
     "abstract": "The wealthy hand-to-mouth are households who hold little or no liquid wealth (cash, checking, and savings accounts), despite owning sizable amounts of illiquid assets (assets that carry a transaction cost, such as housing or retirement accounts). We use survey data on household portfolios for the U.S., Canada, Australia, the U.K., Germany, France, Italy, and Spain to document the share of such households across countries, their demographic characteristics, the composition of their balance sheets, and the persistence of hand-to-mouth status over the life cycle. The portfolio configuration of the wealthy hand-to-mouth suggests that these households may have a high marginal propensity to consume out of transitory income changes, a prediction for which we find empirical support in PSID data. We explain the implications of this group of consumers for macroeconomic modeling and fiscal policy analysis.",
     "accessed": {
      "day": 20,
      "month": 9,
      "year": 2019
     },
     "author": [
      {
       "family": "Kaplan",
       "given": "Greg"
      },
      {
       "family": "Violante",
       "given": "Giovanni L"
      },
      {
       "family": "Weidner",
       "given": "Justin"
      }
     ],
     "genre": "Working Paper",
     "id": "7250895/LYGFNASY",
     "issued": {
      "month": 4,
      "year": 2014
     },
     "note": "DOI: 10.3386/w20073",
     "number": "20073",
     "publisher": "National Bureau of Economic Research",
     "title": "The Wealthy Hand-to-Mouth",
     "type": "report"
    },
    "7250895/MPWK8J4D": {
     "URL": "http://web.stanford.edu/~ampeter/JMP_Peter.pdf",
     "accessed": {
      "day": 20,
      "month": 9,
      "year": 2019
     },
     "id": "7250895/MPWK8J4D",
     "title": "Peter - Owning Up Closely Held Firms and Wealth Inequalit.pdf",
     "type": "article"
    },
    "7250895/QK8EPBGS": {
     "DOI": "10.1016/j.jhe.2016.12.001",
     "URL": "http://www.sciencedirect.com/science/article/pii/S105113771630105X",
     "abstract": "Results from the Eurosystem Household Finance and Consumption Survey reveal substantial variation in household net wealth across euro area countries that await explanation. This paper focuses on three main factors: (i) homeownership, (ii) housing value appreciation and (iii) intergenerational transfers. We show that these three factors, in addition to the common household and demographic factors, are relevant for the net wealth accumulation process in all euro area countries, and that, using various decomposition techniques, differences in homeownership rates and house price dynamics are important for explaining wealth differences across euro area countries.",
     "accessed": {
      "day": 20,
      "month": 9,
      "year": 2019
     },
     "author": [
      {
       "family": "Mathä",
       "given": "Thomas Y."
      },
      {
       "family": "Porpiglia",
       "given": "Alessandro"
      },
      {
       "family": "Ziegelmeyer",
       "given": "Michael"
      }
     ],
     "container-title": "Journal of Housing Economics",
     "container-title-short": "Journal of Housing Economics",
     "id": "7250895/QK8EPBGS",
     "issued": {
      "day": 1,
      "month": 3,
      "year": 2017
     },
     "journalAbbreviation": "Journal of Housing Economics",
     "page": "1-12",
     "page-first": "1",
     "shortTitle": "Household wealth in the euro area",
     "title": "Household wealth in the euro area: The importance of intergenerational transfers, homeownership and house price dynamics",
     "title-short": "Household wealth in the euro area",
     "type": "article-journal",
     "volume": "35"
    },
    "7250895/R3NVYQYY": {
     "URL": "https://papers.ssrn.com/abstract=2442272",
     "abstract": "This article aims at linking the household wealth and income distributions for 15 European countries using the Household Finance and Consumption Survey. We study the role played by the household’s location in the income distributions in determining its location in the wealth distribution. A generalized ordered probit model is estimated to explain the role played by the position in the income distribution and by intergenerational transfers on the probability to be in a given wealth decile in each country. As expected, we obtain that a rise in income or having received gifts and inheritances increases the probability to be in higher wealth deciles. Most importantly, we find evidences of heterogeneity in accumulation behaviours along the wealth distribution in France, Finland, Germany, Greece, Italy, Slovakia and Spain. The relative effect of income or inheritance on wealth accumulation varies, depending on the rank of the households in the wealth distribution. We also highlight some specificity in the top of the wealth distribution.",
     "accessed": {
      "day": 20,
      "month": 9,
      "year": 2019
     },
     "author": [
      {
       "family": "Arrondel",
       "given": "Luc"
      },
      {
       "family": "Roger",
       "given": "Muriel"
      },
      {
       "family": "Savignac",
       "given": "Frederique"
      }
     ],
     "event-place": "Rochester, NY",
     "genre": "SSRN Scholarly Paper",
     "id": "7250895/R3NVYQYY",
     "issued": {
      "day": 27,
      "month": 5,
      "year": 2014
     },
     "language": "en",
     "number": "ID 2442272",
     "publisher": "Social Science Research Network",
     "publisher-place": "Rochester, NY",
     "shortTitle": "Wealth and Income in the Euro Area",
     "title": "Wealth and Income in the Euro Area: Heterogeneity in Households' Behaviours?",
     "title-short": "Wealth and Income in the Euro Area",
     "type": "report"
    },
    "7250895/R8NAIB7B": {
     "author": [
      {
       "family": "Kindermann",
       "given": "Fabian"
      },
      {
       "family": "Kohls",
       "given": "Sebastian"
      }
     ],
     "container-title": "CES/IFO conference on macroeconomics and survey data",
     "id": "7250895/R8NAIB7B",
     "issued": {
      "year": 2016
     },
     "title": "Rental markets and wealth inequality in the Euro-area",
     "type": "paper-conference"
    },
    "7250895/RPWC4MNU": {
     "DOI": "10.1093/jeea/jvx040",
     "URL": "https://academic.oup.com/jeea/article/16/5/1281/4653491",
     "abstract": "Abstract.  The interaction of incomplete markets and sticky nominal wages is shown to magnify business cycles even though these two features—in isolation—dampen",
     "accessed": {
      "day": 20,
      "month": 9,
      "year": 2019
     },
     "author": [
      {
       "family": "Den Haan",
       "given": "Wouter J."
      },
      {
       "family": "Rendahl",
       "given": "Pontus"
      },
      {
       "family": "Riegler",
       "given": "Markus"
      }
     ],
     "container-title": "Journal of the European Economic Association",
     "container-title-short": "Journal of the European Economic Association",
     "id": "7250895/RPWC4MNU",
     "issue": "5",
     "issued": {
      "day": 1,
      "month": 10,
      "year": 2018
     },
     "journalAbbreviation": "Journal of the European Economic Association",
     "language": "en",
     "page": "1281-1349",
     "page-first": "1281",
     "title": "Unemployment (Fears) and Deflationary Spirals",
     "type": "article-journal",
     "volume": "16"
    },
    "7250895/U59QUANP": {
     "URL": "https://onlinelibrary.wiley.com/doi/full/10.1111/roiw.12279",
     "accessed": {
      "day": 20,
      "month": 9,
      "year": 2019
     },
     "id": "7250895/U59QUANP",
     "title": "How Fat is the Top Tail of the Wealth Distribution? - Vermeulen - 2018 - Review of Income and Wealth - Wiley Online Library",
     "type": "webpage"
    },
    "7250895/U8D8T656": {
     "DOI": "10.1111/jeea.12155",
     "URL": "https://academic.oup.com/jeea/article/14/4/871/2691355",
     "abstract": "Abstract.  We show that unexpected price-level movements generate sizable wealth redistribution in the Euro Area (EA), using sectoral accounts and newly availab",
     "accessed": {
      "day": 20,
      "month": 9,
      "year": 2019
     },
     "author": [
      {
       "family": "Adam",
       "given": "Klaus"
      },
      {
       "family": "Zhu",
       "given": "Junyi"
      }
     ],
     "container-title": "Journal of the European Economic Association",
     "container-title-short": "Journal of the European Economic Association",
     "id": "7250895/U8D8T656",
     "issue": "4",
     "issued": {
      "day": 1,
      "month": 8,
      "year": 2016
     },
     "journalAbbreviation": "Journal of the European Economic Association",
     "language": "en",
     "page": "871-906",
     "page-first": "871",
     "title": "Price-Level Changes and the Redistribution of Nominal Wealth across the Euro Area",
     "type": "article-journal",
     "volume": "14"
    },
    "7250895/VT3W29DZ": {
     "URL": "https://papers.ssrn.com/abstract=2369898",
     "abstract": "The aim of this paper is twofold. First, we present an up-to-date assessment of the differences across euro area countries in the distributions of various measures of debt conditional on household characteristics. We consider three different outcomes: the probability of holding debt, the amount of debt held and, in the case of secured debt, the interest rate paid on the main mortgage. Second, we examine the role of legal and economic institutions in accounting for these differences. We use data from the first wave of a new survey of household finances, the Household Finance and Consumption Survey, to achieve these aims. We find that the patterns of secured and unsecured debt outcomes vary markedly across countries. Among all the institutions considered, the length of asset repossession periods best accounts for the features of the distribution of secured debt. In countries with longer repossession periods, the fraction of people who borrow is smaller, the youngest group of households borrow lower amounts (conditional on borrowing), and the mortgage interest rates paid by low-income households are higher. Regulatory loan-to-value ratios, the taxation of mortgages and the prevalence of interest-only or fixed-rate mortgages deliver less robust results.",
     "accessed": {
      "day": 20,
      "month": 9,
      "year": 2019
     },
     "author": [
      {
       "family": "Bover",
       "given": "Olympia"
      },
      {
       "family": "Casado",
       "given": "Jose Maria"
      },
      {
       "family": "Costa",
       "given": "Sonia"
      },
      {
       "family": "Du Caju",
       "given": "Philip"
      },
      {
       "family": "McCarthy",
       "given": "Yvonne"
      },
      {
       "family": "Sierminska",
       "given": "Eva"
      },
      {
       "family": "Tzamourani",
       "given": "Panagiota"
      },
      {
       "family": "Villanueva",
       "given": "Ernesto"
      },
      {
       "family": "Zavadil",
       "given": "Tibor"
      }
     ],
     "event-place": "Rochester, NY",
     "genre": "SSRN Scholarly Paper",
     "id": "7250895/VT3W29DZ",
     "issued": {
      "day": 19,
      "month": 12,
      "year": 2013
     },
     "language": "en",
     "number": "ID 2369898",
     "publisher": "Social Science Research Network",
     "publisher-place": "Rochester, NY",
     "shortTitle": "The Distribution of Debt Across Euro Area Countries",
     "title": "The Distribution of Debt Across Euro Area Countries: The Role of Individual Characteristics, Institutions and Credit Conditions",
     "title-short": "The Distribution of Debt Across Euro Area Countries",
     "type": "report"
    },
    "7250895/X43MNXDK": {
     "URL": "https://papers.ssrn.com/abstract=3071357",
     "abstract": "Following the Great Recession, many European countries implemented fiscal consolidation policies aimed at reducing government debt. Using three independent data sources and three different empirical approaches, we document a strong positive relationship between higher income inequality and stronger recessive impacts of fiscal consolidation programs across time and place. To explain this finding, we develop a life-cycle, overlapping generations economy with uninsurable labor market risk. We calibrate our model to match key characteristics of a number of European economies, including the distribution of wages and wealth, social security, taxes and debt, and study the effects of fiscal consolidation programs. We find that higher income risk induces precautionary savings behavior, which decreases the proportion of credit-constrained agents in the economy. Credit-constrained agents have less elastic labor supply responses to fiscal consolidation achieved through either tax hikes or public spending cuts, and this explains the relationship between income inequality and the impact of fiscal consolidation programs. Our model produces a cross-country correlation between inequality and the fiscal consolidation multipliers, which is quite similar to that in the data.",
     "accessed": {
      "day": 20,
      "month": 9,
      "year": 2019
     },
     "author": [
      {
       "family": "Brinca",
       "given": "Pedro"
      },
      {
       "family": "Homem Ferreira",
       "given": "Miguel"
      },
      {
       "family": "Franco",
       "given": "Francesco A."
      },
      {
       "family": "Holter",
       "given": "Hans Aasnes"
      },
      {
       "family": "Malafry",
       "given": "Laurence"
      }
     ],
     "event-place": "Rochester, NY",
     "genre": "SSRN Scholarly Paper",
     "id": "7250895/X43MNXDK",
     "issued": {
      "day": 20,
      "month": 4,
      "year": 2018
     },
     "language": "en",
     "number": "ID 3071357",
     "publisher": "Social Science Research Network",
     "publisher-place": "Rochester, NY",
     "title": "Fiscal Consolidation Programs and Income Inequality",
     "type": "report"
    },
    "7250895/X7STV7A6": {
     "URL": "https://papers.ssrn.com/abstract=3223542",
     "abstract": "This paper considers how monetary policy produces heterogeneous effects on euro area households, depending on the composition of their income and on the components of their wealth. We first review the existing evidence on how monetary policy affects income and wealth inequality. We then illustrate quantitatively how various channels of transmission—net interest rate exposure, intertemporal substitution and indirect income channels—affect individual euro area households. We find that the indirect income channel has an overwhelming importance, especially for households holding few or no liquid assets. The indirect income channel is therefore also a substantial driver of changes in consumption at the aggregate level.",
     "accessed": {
      "day": 20,
      "month": 9,
      "year": 2019
     },
     "author": [
      {
       "family": "Ampudia",
       "given": "Miguel"
      },
      {
       "family": "Georgarakos",
       "given": "Dimitris"
      },
      {
       "family": "Slacalek",
       "given": "Jiri"
      },
      {
       "family": "Tristani",
       "given": "Oreste"
      },
      {
       "family": "Vermeulen",
       "given": "Philip"
      },
      {
       "family": "Violante",
       "given": "Giovanni"
      }
     ],
     "event-place": "Rochester, NY",
     "genre": "SSRN Scholarly Paper",
     "id": "7250895/X7STV7A6",
     "issued": {
      "day": 18,
      "month": 7,
      "year": 2018
     },
     "language": "en",
     "number": "ID 3223542",
     "publisher": "Social Science Research Network",
     "publisher-place": "Rochester, NY",
     "title": "Monetary Policy and Household Inequality",
     "type": "report"
    },
    "7250895/XE6JTE7U": {
     "author": [
      {
       "family": "Blanc",
       "given": "Julie Le"
      },
      {
       "family": "Porpiglia",
       "given": "Alessandro"
      },
      {
       "family": "Teppa",
       "given": "Federica"
      },
      {
       "family": "Zhu",
       "given": "Junyi"
      },
      {
       "family": "Ziegelmeyer",
       "given": "Michael"
      }
     ],
     "container-title": "International Journal of Central Banking",
     "id": "7250895/XE6JTE7U",
     "issue": "2",
     "issued": {
      "year": 2016
     },
     "language": "en",
     "page": "55",
     "page-first": "55",
     "title": "Household saving behavior in the euro area",
     "type": "article-journal",
     "volume": "12"
    },
    "7250895/ZQKHNQHG": {
     "DOI": "10.1111/joes.12090",
     "URL": "https://onlinelibrary.wiley.com/doi/abs/10.1111/joes.12090",
     "abstract": "The effect of wealth on consumption is an issue of long-standing interest to economists. Conventional wisdom suggests that fluctuations in household wealth have driven major swings in economic activity both in the United States and abroad. This paper considers the so-called consumption wealth effects. There is an extensive existing literature on wealth effects that has yielded some insights. For example, research has documented the relationship between aggregate household wealth and aggregate consumption over time, and a large number of household-level studies suggest that wealth effects are larger for households facing credit constraints. However, there are also many unresolved issues regarding the influence of household wealth on consumption. We review the most important of these issues and argue that there is a need for much more research in these areas as well as better data sources for conducting such analysis.",
     "accessed": {
      "day": 20,
      "month": 9,
      "year": 2019
     },
     "author": [
      {
       "family": "Cooper",
       "given": "Daniel"
      },
      {
       "family": "Dynan",
       "given": "Karen"
      }
     ],
     "container-title": "Journal of Economic Surveys",
     "id": "7250895/ZQKHNQHG",
     "issue": "1",
     "issued": {
      "year": 2016
     },
     "language": "en",
     "page": "34-55",
     "page-first": "34",
     "title": "Wealth Effects and Macroeconomic Dynamics",
     "type": "article-journal",
     "volume": "30"
    },
    "undefined": {
     "URL": "https://papers.ssrn.com/abstract=2369898",
     "abstract": "The aim of this paper is twofold. First, we present an up-to-date assessment of the differences across euro area countries in the distributions of various measures of debt conditional on household characteristics. We consider three different outcomes: the probability of holding debt, the amount of debt held and, in the case of secured debt, the interest rate paid on the main mortgage. Second, we examine the role of legal and economic institutions in accounting for these differences. We use data from the first wave of a new survey of household finances, the Household Finance and Consumption Survey, to achieve these aims. We find that the patterns of secured and unsecured debt outcomes vary markedly across countries. Among all the institutions considered, the length of asset repossession periods best accounts for the features of the distribution of secured debt. In countries with longer repossession periods, the fraction of people who borrow is smaller, the youngest group of households borrow lower amounts (conditional on borrowing), and the mortgage interest rates paid by low-income households are higher. Regulatory loan-to-value ratios, the taxation of mortgages and the prevalence of interest-only or fixed-rate mortgages deliver less robust results.",
     "accessed": {
      "day": 20,
      "month": 9,
      "year": 2019
     },
     "author": [
      {
       "family": "Bover",
       "given": "Olympia"
      },
      {
       "family": "Casado",
       "given": "Jose Maria"
      },
      {
       "family": "Costa",
       "given": "Sonia"
      },
      {
       "family": "Du Caju",
       "given": "Philip"
      },
      {
       "family": "McCarthy",
       "given": "Yvonne"
      },
      {
       "family": "Sierminska",
       "given": "Eva"
      },
      {
       "family": "Tzamourani",
       "given": "Panagiota"
      },
      {
       "family": "Villanueva",
       "given": "Ernesto"
      },
      {
       "family": "Zavadil",
       "given": "Tibor"
      }
     ],
     "event-place": "Rochester, NY",
     "genre": "SSRN Scholarly Paper",
     "id": "7250895/VT3W29DZ",
     "issued": {
      "day": 19,
      "month": 12,
      "year": 2013
     },
     "language": "en",
     "number": "ID 2369898",
     "publisher": "Social Science Research Network",
     "publisher-place": "Rochester, NY",
     "shortTitle": "The Distribution of Debt Across Euro Area Countries",
     "title": "The Distribution of Debt Across Euro Area Countries: The Role of Individual Characteristics, Institutions and Credit Conditions",
     "title-short": "The Distribution of Debt Across Euro Area Countries",
     "type": "report"
    }
   }
  },
  "jupytext": {
   "formats": "ipynb,py:light"
  },
  "kernelspec": {
   "display_name": "Python 3",
   "language": "python",
   "name": "python3"
  },
  "language_info": {
   "codemirror_mode": {
    "name": "ipython",
    "version": 3
   },
   "file_extension": ".py",
   "mimetype": "text/x-python",
   "name": "python",
   "nbconvert_exporter": "python",
   "pygments_lexer": "ipython3",
   "version": "3.7.3"
  }
 },
 "nbformat": 4,
 "nbformat_minor": 2
}
